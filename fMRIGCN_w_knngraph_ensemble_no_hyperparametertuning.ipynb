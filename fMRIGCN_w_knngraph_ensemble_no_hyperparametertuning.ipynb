{
  "cells": [
    {
      "cell_type": "code",
      "source": [
        "from google.colab import drive\n",
        "drive.mount('/content/drive')"
      ],
      "metadata": {
        "colab": {
          "base_uri": "https://localhost:8080/"
        },
        "id": "AcETEs3sciNg",
        "outputId": "3b322303-d185-4659-bf1c-bfd769450833"
      },
      "execution_count": null,
      "outputs": [
        {
          "output_type": "stream",
          "name": "stdout",
          "text": [
            "Drive already mounted at /content/drive; to attempt to forcibly remount, call drive.mount(\"/content/drive\", force_remount=True).\n"
          ]
        }
      ]
    },
    {
      "cell_type": "code",
      "execution_count": null,
      "metadata": {
        "colab": {
          "base_uri": "https://localhost:8080/"
        },
        "collapsed": true,
        "id": "p3F7GLjJWqKE",
        "outputId": "eee414e8-7937-4643-d73a-b0395ff5880f"
      },
      "outputs": [
        {
          "output_type": "stream",
          "name": "stdout",
          "text": [
            "Looking in links: https://data.pyg.org/whl/torch-2.8.0+cu126.html\n",
            "Requirement already satisfied: torch-scatter in /usr/local/lib/python3.12/dist-packages (2.1.2+pt28cu126)\n",
            "Looking in links: https://data.pyg.org/whl/torch-2.8.0+cu126.html\n",
            "Requirement already satisfied: torch-sparse in /usr/local/lib/python3.12/dist-packages (0.6.18+pt28cu126)\n",
            "Requirement already satisfied: scipy in /usr/local/lib/python3.12/dist-packages (from torch-sparse) (1.16.1)\n",
            "Requirement already satisfied: numpy<2.6,>=1.25.2 in /usr/local/lib/python3.12/dist-packages (from scipy->torch-sparse) (2.0.2)\n",
            "Looking in links: https://data.pyg.org/whl/torch-2.8.0+cu126.html\n",
            "Requirement already satisfied: torch-cluster in /usr/local/lib/python3.12/dist-packages (1.6.3+pt28cu126)\n",
            "Requirement already satisfied: scipy in /usr/local/lib/python3.12/dist-packages (from torch-cluster) (1.16.1)\n",
            "Requirement already satisfied: numpy<2.6,>=1.25.2 in /usr/local/lib/python3.12/dist-packages (from scipy->torch-cluster) (2.0.2)\n",
            "Looking in links: https://data.pyg.org/whl/torch-2.8.0+cu126.html\n",
            "Requirement already satisfied: torch-spline-conv in /usr/local/lib/python3.12/dist-packages (1.2.2+pt28cu126)\n",
            "Requirement already satisfied: torch-geometric in /usr/local/lib/python3.12/dist-packages (2.6.1)\n",
            "Requirement already satisfied: aiohttp in /usr/local/lib/python3.12/dist-packages (from torch-geometric) (3.12.15)\n",
            "Requirement already satisfied: fsspec in /usr/local/lib/python3.12/dist-packages (from torch-geometric) (2025.3.0)\n",
            "Requirement already satisfied: jinja2 in /usr/local/lib/python3.12/dist-packages (from torch-geometric) (3.1.6)\n",
            "Requirement already satisfied: numpy in /usr/local/lib/python3.12/dist-packages (from torch-geometric) (2.0.2)\n",
            "Requirement already satisfied: psutil>=5.8.0 in /usr/local/lib/python3.12/dist-packages (from torch-geometric) (5.9.5)\n",
            "Requirement already satisfied: pyparsing in /usr/local/lib/python3.12/dist-packages (from torch-geometric) (3.2.3)\n",
            "Requirement already satisfied: requests in /usr/local/lib/python3.12/dist-packages (from torch-geometric) (2.32.3)\n",
            "Requirement already satisfied: tqdm in /usr/local/lib/python3.12/dist-packages (from torch-geometric) (4.67.1)\n",
            "Requirement already satisfied: aiohappyeyeballs>=2.5.0 in /usr/local/lib/python3.12/dist-packages (from aiohttp->torch-geometric) (2.6.1)\n",
            "Requirement already satisfied: aiosignal>=1.4.0 in /usr/local/lib/python3.12/dist-packages (from aiohttp->torch-geometric) (1.4.0)\n",
            "Requirement already satisfied: attrs>=17.3.0 in /usr/local/lib/python3.12/dist-packages (from aiohttp->torch-geometric) (25.3.0)\n",
            "Requirement already satisfied: frozenlist>=1.1.1 in /usr/local/lib/python3.12/dist-packages (from aiohttp->torch-geometric) (1.7.0)\n",
            "Requirement already satisfied: multidict<7.0,>=4.5 in /usr/local/lib/python3.12/dist-packages (from aiohttp->torch-geometric) (6.6.4)\n",
            "Requirement already satisfied: propcache>=0.2.0 in /usr/local/lib/python3.12/dist-packages (from aiohttp->torch-geometric) (0.3.2)\n",
            "Requirement already satisfied: yarl<2.0,>=1.17.0 in /usr/local/lib/python3.12/dist-packages (from aiohttp->torch-geometric) (1.20.1)\n",
            "Requirement already satisfied: MarkupSafe>=2.0 in /usr/local/lib/python3.12/dist-packages (from jinja2->torch-geometric) (3.0.2)\n",
            "Requirement already satisfied: charset-normalizer<4,>=2 in /usr/local/lib/python3.12/dist-packages (from requests->torch-geometric) (3.4.3)\n",
            "Requirement already satisfied: idna<4,>=2.5 in /usr/local/lib/python3.12/dist-packages (from requests->torch-geometric) (3.10)\n",
            "Requirement already satisfied: urllib3<3,>=1.21.1 in /usr/local/lib/python3.12/dist-packages (from requests->torch-geometric) (2.5.0)\n",
            "Requirement already satisfied: certifi>=2017.4.17 in /usr/local/lib/python3.12/dist-packages (from requests->torch-geometric) (2025.8.3)\n",
            "Requirement already satisfied: typing-extensions>=4.2 in /usr/local/lib/python3.12/dist-packages (from aiosignal>=1.4.0->aiohttp->torch-geometric) (4.14.1)\n",
            "▶︎ Successfully installed PyTorch 2.8.0 with CUDA cu126\n"
          ]
        }
      ],
      "source": [
        "#@title Downloading PyTorch Geometric\n",
        "\n",
        "import torch\n",
        "\n",
        "def format_pytorch_version(version):\n",
        "  return version.split('+')[0]\n",
        "\n",
        "TORCH_version = torch.__version__\n",
        "TORCH = format_pytorch_version(TORCH_version)\n",
        "\n",
        "def format_cuda_version(version):\n",
        "  return 'cu' + version.replace('.', '')\n",
        "\n",
        "CUDA_version = torch.version.cuda\n",
        "CUDA = format_cuda_version(CUDA_version)\n",
        "\n",
        "!pip install torch-scatter -f https://data.pyg.org/whl/torch-{TORCH}+{CUDA}.html\n",
        "!pip install torch-sparse -f https://data.pyg.org/whl/torch-{TORCH}+{CUDA}.html\n",
        "!pip install torch-cluster -f https://data.pyg.org/whl/torch-{TORCH}+{CUDA}.html\n",
        "!pip install torch-spline-conv -f https://data.pyg.org/whl/torch-{TORCH}+{CUDA}.html\n",
        "!pip install torch-geometric\n",
        "\n",
        "print(f'▶︎ Successfully installed PyTorch {TORCH} with CUDA {CUDA}')"
      ]
    },
    {
      "cell_type": "code",
      "execution_count": null,
      "metadata": {
        "colab": {
          "base_uri": "https://localhost:8080/"
        },
        "id": "SmlvXg84ZVGx",
        "outputId": "1d34213a-d274-4f65-f32c-814083dc4256"
      },
      "outputs": [
        {
          "output_type": "stream",
          "name": "stdout",
          "text": [
            "▶︎ Finished Environment Setting\n"
          ]
        }
      ],
      "source": [
        "# 3. Import Libraries\n",
        "import numpy as np\n",
        "import pandas as pd\n",
        "import seaborn as sns\n",
        "import matplotlib.pyplot as plt\n",
        "from pathlib import Path\n",
        "\n",
        "import torch.nn.functional as F\n",
        "from torch.nn import Linear, Dropout\n",
        "from torch_geometric.nn import GCNConv, global_mean_pool\n",
        "from torch_geometric.data import Dataset, Data\n",
        "from torch_geometric.loader import DataLoader\n",
        "from sklearn.model_selection import train_test_split\n",
        "from sklearn.metrics import confusion_matrix, accuracy_score, f1_score\n",
        "from scipy.stats import ttest_ind\n",
        "\n",
        "print(\"▶︎ Finished Environment Setting\")"
      ]
    },
    {
      "cell_type": "code",
      "source": [
        "import sys\n",
        "print(sys.version)"
      ],
      "metadata": {
        "colab": {
          "base_uri": "https://localhost:8080/"
        },
        "id": "y9vftGDAdBTh",
        "outputId": "df35193d-352b-464c-c171-d4ae26d108da"
      },
      "execution_count": null,
      "outputs": [
        {
          "output_type": "stream",
          "name": "stdout",
          "text": [
            "3.12.11 (main, Jun  4 2025, 08:56:18) [GCC 11.4.0]\n"
          ]
        }
      ]
    },
    {
      "cell_type": "code",
      "execution_count": null,
      "metadata": {
        "colab": {
          "base_uri": "https://localhost:8080/"
        },
        "id": "M-FK0QcBZYM1",
        "outputId": "da39ed20-f430-47ef-b1e4-ac2d144de0c2"
      },
      "outputs": [
        {
          "output_type": "stream",
          "name": "stdout",
          "text": [
            "▶︎ Finished Drive Mount and Directory Settings.\n"
          ]
        }
      ],
      "source": [
        "# --- Set Data Directories ---\n",
        "\n",
        "# Schaefer Atlas\n",
        "CN_FC_SCHAEFER_DIR = Path('/content/drive/MyDrive/AD_fMRI_GNN/CN_conn_roi_data/schaefer/fc')\n",
        "CN_ROI_SCHAEFER_DIR = Path('/content/drive/MyDrive/AD_fMRI_GNN/CN_conn_roi_data/schaefer/roi')\n",
        "AD_FC_SCHAEFER_DIR = Path('/content/drive/MyDrive/AD_fMRI_GNN/AD_conn_roi_data/schaefer/fc')\n",
        "AD_ROI_SCHAEFER_DIR = Path('/content/drive/MyDrive/AD_fMRI_GNN/AD_conn_roi_data/schaefer/roi')\n",
        "\n",
        "# AAL Atlas\n",
        "CN_FC_AAL_DIR = Path('/content/drive/MyDrive/AD_fMRI_GNN/CN_conn_roi_data/aal/fc')\n",
        "CN_ROI_AAL_DIR = Path('/content/drive/MyDrive/AD_fMRI_GNN/CN_conn_roi_data/aal/roi')\n",
        "AD_FC_AAL_DIR = Path('/content/drive/MyDrive/AD_fMRI_GNN/AD_conn_roi_data/aal/fc')\n",
        "AD_ROI_AAL_DIR = Path('/content/drive/MyDrive/AD_fMRI_GNN/AD_conn_roi_data/aal/roi')\n",
        "\n",
        "\n",
        "# --- Set Hyperparameters ---\n",
        "P_VALUE_THRESHOLD = 0.02\n",
        "LEARNING_RATE = 0.001\n",
        "BATCH_SIZE = 32\n",
        "INNER_NUM_EPOCHS = 30\n",
        "OUTER_NUM_EPOCHS = 100\n",
        "DROPOUT_RATE = 0.5\n",
        "\n",
        "print(\"▶︎ Finished Drive Mount and Directory Settings.\")\n"
      ]
    },
    {
      "cell_type": "code",
      "metadata": {
        "id": "cc3e4539"
      },
      "source": [
        "import os # Import os for path joining\n",
        "from sklearn.neighbors import NearestNeighbors\n",
        "from sklearn.metrics.pairwise import cosine_similarity, euclidean_distances\n",
        "\n",
        "class fMRIDataset(Dataset):\n",
        "    \"\"\"\n",
        "    Processing fMRI Dataset for single Atlas (AAL or Schaefer) using KNN graph.\n",
        "    \"\"\"\n",
        "    # Modified __init__ to accept k_neighbors\n",
        "    def __init__(self, root, cn_fc_dir, cn_roi_dir, ad_fc_dir, ad_roi_dir, k_neighbors=10, transform=None, pre_transform=None):\n",
        "        self.cn_fc_dir = cn_fc_dir\n",
        "        self.cn_roi_dir = cn_roi_dir\n",
        "        self.ad_fc_dir = ad_fc_dir\n",
        "        self.ad_roi_dir = ad_roi_dir\n",
        "        self.k_neighbors = k_neighbors # Store k_neighbors for KNN graph\n",
        "\n",
        "        # Determine atlas_type based on directory names\n",
        "        if 'schaefer' in str(cn_fc_dir).lower():\n",
        "            self.atlas_type = 'schaefer'\n",
        "        elif 'aal' in str(cn_fc_dir).lower():\n",
        "            self.atlas_type = 'aal'\n",
        "        else:\n",
        "            self.atlas_type = 'unknown'\n",
        "            print(f\"Warning: Could not determine atlas type from directory names: {cn_fc_dir}\")\n",
        "\n",
        "\n",
        "        self.ad_subjects = [f.stem.split('_')[0] for f in self.ad_fc_dir.glob('*.csv')]\n",
        "        self.cn_subjects = [f.stem.split('_')[0] for f in self.cn_fc_dir.glob('*.csv')]\n",
        "        self.all_subjects = sorted(list(set(self.ad_subjects + self.cn_subjects)))\n",
        "\n",
        "        # Ensure all subjects have both FC and ROI files, otherwise exclude them.\n",
        "        valid_subjects = []\n",
        "        for sub in self.all_subjects:\n",
        "            # Construct expected file paths based on subject and determined atlas type\n",
        "            expected_fc_path = (self.ad_fc_dir / f\"{sub}_task-rest_bold_{self.atlas_type}_connectivity_matrix.csv\") if sub in self.ad_subjects else (self.cn_fc_dir / f\"{sub}_task-rest_bold_{self.atlas_type}_connectivity_matrix.csv\")\n",
        "            expected_roi_path = (self.ad_roi_dir / f\"{sub}_task-rest_bold_{self.atlas_type}_roi_timeseries.csv\") if sub in self.ad_subjects else (self.cn_roi_dir / f\"{sub}_task-rest_bold_{self.atlas_type}_roi_timeseries.csv\")\n",
        "\n",
        "            # Use glob with a more specific pattern to find the file if naming is slightly inconsistent\n",
        "            # Or just check if the constructed path exists for strict naming\n",
        "            fc_found = expected_fc_path.exists() or list(self.ad_fc_dir.glob(f\"{sub}*connectivity_matrix.csv\")) or list(self.cn_fc_dir.glob(f\"{sub}*connectivity_matrix.csv\"))\n",
        "            roi_found = expected_roi_path.exists() or list(self.ad_roi_dir.glob(f\"{sub}*roi_timeseries.csv\")) or list(self.cn_roi_dir.glob(f\"{sub}*roi_timeseries.csv\"))\n",
        "\n",
        "\n",
        "            if fc_found and roi_found:\n",
        "                valid_subjects.append(sub)\n",
        "            else:\n",
        "                if not fc_found and not roi_found:\n",
        "                    print(f\"Warning: FC and ROI data missing for subject {sub}. Skipping.\")\n",
        "                elif not fc_found:\n",
        "                    print(f\"Warning: FC data missing for subject {sub}. Skipping.\")\n",
        "                elif not roi_found:\n",
        "                     print(f\"Warning: ROI data missing for subject {sub}. Skipping.\")\n",
        "\n",
        "\n",
        "        self.all_subjects = valid_subjects\n",
        "        self.ad_subjects = [sub for sub in self.all_subjects if sub in self.ad_subjects]\n",
        "        self.cn_subjects = [sub for sub in self.all_subjects if sub in self.cn_subjects]\n",
        "\n",
        "        print(f\"Initialized dataset with {len(self.all_subjects)} valid subjects.\")\n",
        "\n",
        "\n",
        "        super(fMRIDataset, self).__init__(root, transform, pre_transform)\n",
        "\n",
        "    @property\n",
        "    def raw_file_names(self):\n",
        "         # This method is typically for raw files that need processing.\n",
        "         cn_files = [f.name for f in self.cn_fc_dir.glob('*.csv')] + [f.name for f in self.cn_roi_dir.glob('*.csv')]\n",
        "         ad_files = [f.name for f in self.ad_fc_dir.glob('*.csv')] + [f.name for f in self.ad_roi_dir.glob('*.csv')]\n",
        "         return list(set(cn_files + ad_files)) # Return unique file names\n",
        "\n",
        "\n",
        "    @property\n",
        "    def processed_file_names(self):\n",
        "        # Define the names of the processed data files\n",
        "        return [f'data_{i}.pt' for i in range(len(self.all_subjects))]\n",
        "\n",
        "    # Removed _get_adj_matrix\n",
        "\n",
        "    def download(self):\n",
        "        # Download logic here if needed.\n",
        "        pass\n",
        "\n",
        "    def process(self):\n",
        "        # Process raw data into PyTorch Geometric Data objects\n",
        "        print(f\"Processing {len(self.all_subjects)} subjects...\")\n",
        "        for idx, subject_id in enumerate(self.all_subjects):\n",
        "            print(f\"Processing subject {subject_id} ({idx + 1}/{len(self.all_subjects)})...\")\n",
        "\n",
        "            # Determine file paths based on subject group and stored atlas type\n",
        "            if subject_id in self.ad_subjects:\n",
        "                label = 1\n",
        "                fc_dir, roi_dir = self.ad_fc_dir, self.ad_roi_dir\n",
        "            else:\n",
        "                label = 0\n",
        "                fc_dir, roi_dir = self.cn_fc_dir, self.cn_roi_dir\n",
        "\n",
        "            # Find the actual FC and ROI file paths for the subject\n",
        "            fc_path_candidates = list(fc_dir.glob(f\"{subject_id}*connectivity_matrix.csv\"))\n",
        "            roi_path_candidates = list(roi_dir.glob(f\"{subject_id}*roi_timeseries.csv\"))\n",
        "\n",
        "            fc_path = fc_path_candidates[0] if fc_path_candidates else None\n",
        "            roi_path = roi_path_candidates[0] if roi_path_candidates else None\n",
        "\n",
        "\n",
        "            if fc_path is None or roi_path is None:\n",
        "                 print(f\"Error during processing: Data for subject {subject_id} not found at expected paths. Skipping.\")\n",
        "                 continue\n",
        "\n",
        "\n",
        "            try:\n",
        "                fc_matrix = pd.read_csv(fc_path, index_col=0).values\n",
        "                roi_data = pd.read_csv(roi_path).values\n",
        "                print(f\"  Successfully loaded data. FC shape: {fc_matrix.shape}, ROI shape: {roi_data.shape}\")\n",
        "            except Exception as e:\n",
        "                print(f\"Error reading files for subject {subject_id}: {e}. Skipping.\")\n",
        "                continue\n",
        "\n",
        "            # --- Robust ROI Data Transposition Logic (Kept from previous version) ---\n",
        "            initial_roi_shape = roi_data.shape\n",
        "            expected_nodes = fc_matrix.shape[0]\n",
        "\n",
        "            if initial_roi_shape[0] == expected_nodes:\n",
        "                pass\n",
        "            elif initial_roi_shape[1] == expected_nodes:\n",
        "                roi_data = roi_data.T\n",
        "                print(f\"  Transposed ROI data for subject {subject_id}. Initial shape: {initial_roi_shape}, New shape: {roi_data.shape}\")\n",
        "            else:\n",
        "                print(f\"Warning: ROI data shape mismatch for subject {subject_id}. Expected one dimension to match number of nodes ({expected_nodes}), got shape {initial_roi_shape}. Skipping.\")\n",
        "                continue\n",
        "\n",
        "            if roi_data.shape[0] != expected_nodes:\n",
        "                 print(f\"Error: ROI data first dimension still does not match expected nodes after transposition logic for subject {subject_id}. Expected {expected_nodes}, got {roi_data.shape[0]}. Skipping.\")\n",
        "                 continue\n",
        "\n",
        "\n",
        "            # --- Define Node Features (x) ---\n",
        "            # Use the rows of the FC matrix as node features\n",
        "            x = torch.tensor(fc_matrix, dtype=torch.float)\n",
        "            num_nodes = x.shape[0]\n",
        "            print(f\"  Node features (x) shape: {x.shape}\")\n",
        "\n",
        "            # --- Implement KNN Graph Construction and Edge Weighting ---\n",
        "            edge_index = []\n",
        "            edge_attr = []\n",
        "\n",
        "            # Use NearestNeighbors to find k_neighbors for each node\n",
        "            # We can use euclidean distance or cosine similarity. Let's use euclidean distance for now.\n",
        "            nn = NearestNeighbors(n_neighbors=self.k_neighbors + 1, metric='euclidean') # +1 to exclude self\n",
        "            nn.fit(x.cpu().numpy()) # Fit on CPU numpy array\n",
        "\n",
        "            # Find neighbors and distances\n",
        "            # distances, indices shape: (num_nodes, k_neighbors + 1)\n",
        "            distances, indices = nn.kneighbors(x.cpu().numpy())\n",
        "\n",
        "            for i in range(num_nodes):\n",
        "                # Connect node i to its k_neighbors (excluding itself)\n",
        "                for j in range(1, self.k_neighbors + 1): # Start from 1 to skip self\n",
        "                    neighbor_index = indices[i, j]\n",
        "                    distance = distances[i, j]\n",
        "\n",
        "                    # Add directed edge from i to neighbor_index\n",
        "                    edge_index.append([i, neighbor_index])\n",
        "\n",
        "                    # Calculate edge weight based on distance (e.g., inverse distance or similarity)\n",
        "                    # Using inverse distance as weight: smaller distance -> larger weight\n",
        "                    # Add a small epsilon to avoid division by zero for distance 0\n",
        "                    weight = 1.0 / (distance + 1e-8)\n",
        "                    # Or using similarity (e.g., 1 - normalized euclidean distance or cosine similarity)\n",
        "                    # For euclidean distance, smaller is better. Let's use 1 / distance.\n",
        "                    # For cosine similarity, larger is better. Cosine similarity is calculated between vectors.\n",
        "                    # Let's stick to inverse euclidean distance for simplicity for now.\n",
        "                    edge_attr.append([weight])\n",
        "\n",
        "\n",
        "            # Convert lists to tensors\n",
        "            if not edge_index: # Handle case with no edges (e.g., k=0 or issues)\n",
        "                edge_index = torch.empty((2, 0), dtype=torch.long)\n",
        "                edge_attr = torch.empty((0, 1), dtype=torch.float)\n",
        "            else:\n",
        "                edge_index = torch.tensor(edge_index, dtype=torch.long).t().contiguous()\n",
        "                edge_attr = torch.tensor(edge_attr, dtype=torch.float)\n",
        "\n",
        "            # Ensure edge_index has correct shape (2, num_edges)\n",
        "            if edge_index.ndim != 2 or edge_index.shape[0] != 2:\n",
        "                 print(f\"Error creating edge_index for subject {subject_id}. Skipping.\")\n",
        "                 continue\n",
        "\n",
        "\n",
        "            # Create PyTorch Geometric Data object\n",
        "            # Node features x are already set to FC matrix rows (num_nodes, fc_matrix_cols)\n",
        "            data = Data(x=x,\n",
        "                        edge_index=edge_index,\n",
        "                        edge_attr=edge_attr, # Add edge attributes\n",
        "                        y=torch.tensor([label], dtype=torch.long))\n",
        "\n",
        "            # Save the processed data object\n",
        "            save_path = os.path.join(self.processed_dir, f'data_{idx}.pt')\n",
        "            try:\n",
        "                torch.save(data, save_path)\n",
        "            except Exception as e:\n",
        "                print(f\"Error saving processed data for subject {subject_id} to {save_path}: {e}. Skipping.\")\n",
        "                continue\n",
        "\n",
        "\n",
        "        print(\"Finished processing subjects.\")\n",
        "\n",
        "\n",
        "    def get(self, idx):\n",
        "        # Load a processed data object from the processed directory\n",
        "        data = torch.load(os.path.join(self.processed_dir, f'data_{idx}.pt'), weights_only=False)\n",
        "        return data\n",
        "\n",
        "    def len(self) -> int:\n",
        "        \"\"\"Returns the number of data objects stored in the dataset.\"\"\"\n",
        "        return len(self.all_subjects) # The number of subjects is the number of samples\n",
        "\n",
        "\n",
        "    @property\n",
        "    def num_node_features(self):\n",
        "        # The number of node features is the number of columns in the FC matrix\n",
        "        # Load the first processed data object to get the feature dimension\n",
        "        if len(self.processed_file_names) > 0:\n",
        "             try:\n",
        "                 first_processed_file = os.path.join(self.processed_dir, self.processed_file_names[0])\n",
        "                 if os.path.exists(first_processed_file):\n",
        "                     data = torch.load(first_processed_file, weights_only=False)\n",
        "                     # data.x should be (num_nodes, fc_matrix_cols)\n",
        "                     return data.x.shape[1] # num_node_features is the second dimension (FC matrix columns)\n",
        "                 else:\n",
        "                     print(f\"Warning: First processed file not found at {first_processed_file}. Cannot determine num_node_features.\")\n",
        "                     return 0\n",
        "             except Exception as e:\n",
        "                 print(f\"Error loading first processed file to determine num_node_features: {e}\")\n",
        "                 return 0\n",
        "        return 0\n",
        "\n",
        "    @property\n",
        "    def num_classes(self):\n",
        "        # Assuming binary classification (CN vs AD)\n",
        "        return 2"
      ],
      "execution_count": null,
      "outputs": []
    },
    {
      "cell_type": "code",
      "execution_count": null,
      "metadata": {
        "colab": {
          "base_uri": "https://localhost:8080/"
        },
        "id": "FsW2z5Qqt9-_",
        "outputId": "e92c6be3-bc73-4c7c-fa3b-acd236698087"
      },
      "outputs": [
        {
          "output_type": "stream",
          "name": "stdout",
          "text": [
            "▶︎ Finished Defining Dataset Class and GCN Model (Modified for weighted edges).\n"
          ]
        }
      ],
      "source": [
        "import torch.nn.functional as F\n",
        "from torch.nn import Linear, Dropout\n",
        "from torch_geometric.nn import GCNConv, global_mean_pool\n",
        "from torch_geometric.data import Data # Import Data for type hinting if needed\n",
        "import torch\n",
        "\n",
        "class GCN(torch.nn.Module):\n",
        "    def __init__(self, num_node_features, num_classes, hidden_channels=64):\n",
        "        super(GCN, self).__init__()\n",
        "        # GCNConv doesn't natively handle edge weights in the forward pass directly as a separate argument.\n",
        "        # To use weighted edges with GCNConv, one common approach is to incorporate weights into the adjacency matrix\n",
        "        # representation (edge_index and edge_attr). PyG's GCNConv expects edge_index and potentially edge_attr\n",
        "        # to represent the graph structure and weights, and handles normalization internally based on how\n",
        "        # the MessagePassing base class is implemented and how weights are passed and used in message/aggregate.\n",
        "        # Looking at PyG's GCNConv source or documentation would confirm how it uses edge_attr.\n",
        "        # Assuming GCNConv can take edge_attr, we pass it in the forward method.\n",
        "        # If GCNConv's 'propagate' method uses edge_attr in the 'message' function, this will work.\n",
        "        self.conv1 = GCNConv(num_node_features, hidden_channels)\n",
        "        self.conv2 = GCNConv(hidden_channels, hidden_channels)\n",
        "        self.lin1 = Linear(hidden_channels, num_classes)\n",
        "        self.dropout = Dropout(p=DROPOUT_RATE)\n",
        "\n",
        "    def forward(self, data):\n",
        "        # Data object now contains edge_attr\n",
        "        x, edge_index, edge_attr, batch = data.x, data.edge_index, data.edge_attr, data.batch\n",
        "\n",
        "        # Pass edge_attr to GCNConv layers. GCNConv's forward expects edge_index and optionally edge_weight.\n",
        "        # In PyG, edge_attr is typically used for multi-dimensional edge features, while edge_weight\n",
        "        # is for scalar weights. We generated scalar weights, so let's rename edge_attr to edge_weight\n",
        "        # when passing to GCNConv, and ensure its shape is [num_edges].\n",
        "        # Our edge_attr from the dataset is [num_edges, 1]. We need to squeeze it to [num_edges].\n",
        "        edge_weight = edge_attr.squeeze() if edge_attr is not None else None\n",
        "\n",
        "        x = self.conv1(x, edge_index, edge_weight) # Pass edge_weight here\n",
        "        x = F.relu(x)\n",
        "        x = self.dropout(x)\n",
        "        x = self.conv2(x, edge_index, edge_weight) # Pass edge_weight here\n",
        "        x = F.relu(x)\n",
        "\n",
        "        # Global pooling remains the same\n",
        "        x = global_mean_pool(x, batch)\n",
        "        x = self.dropout(x)\n",
        "        x = self.lin1(x)\n",
        "        return F.log_softmax(x, dim=-1)\n",
        "\n",
        "print(\"▶︎ Finished Defining Dataset Class and GCN Model (Modified for weighted edges).\")"
      ]
    },
    {
      "cell_type": "code",
      "execution_count": null,
      "metadata": {
        "colab": {
          "base_uri": "https://localhost:8080/"
        },
        "id": "AudyYJ12HAiz",
        "outputId": "23e6b6e3-1711-4b81-acbe-338f8c9bee69"
      },
      "outputs": [
        {
          "output_type": "stream",
          "name": "stdout",
          "text": [
            "▶︎ Finished Defining Training and Testing Function.\n"
          ]
        }
      ],
      "source": [
        "#@title 4. Model training function & evaluation function\n",
        "# ==============================================================================\n",
        "#   Defining Functions for Training and Testing model\n",
        "# ==============================================================================\n",
        "from tqdm import tqdm # Import tqdm\n",
        "from sklearn.metrics import accuracy_score, f1_score, roc_auc_score, recall_score # Import necessary metrics\n",
        "\n",
        "def train_model(model, loader, criterion, optimizer, device):\n",
        "    model.train()\n",
        "    total_loss = 0\n",
        "    # Wrap the loader with tqdm for a progress bar\n",
        "    for data in tqdm(loader, desc=\"Training\"):\n",
        "        data = data.to(device)\n",
        "        optimizer.zero_grad()\n",
        "        out = model(data)\n",
        "        loss = criterion(out, data.y)\n",
        "        loss.backward()\n",
        "        optimizer.step()\n",
        "        total_loss += loss.item() * data.num_graphs\n",
        "    return total_loss / len(loader.dataset)\n",
        "\n",
        "def test_model(model, loader, device):\n",
        "    model.eval()\n",
        "    all_preds = []\n",
        "    all_labels = []\n",
        "    all_probs = []\n",
        "\n",
        "    with torch.no_grad():\n",
        "        for data in loader:\n",
        "            data = data.to(device)\n",
        "            out = model(data)\n",
        "            pred = out.argmax(dim=1)\n",
        "\n",
        "            all_preds.extend(pred.cpu().numpy())\n",
        "            all_labels.extend(data.y.cpu().numpy())\n",
        "            all_probs.extend(torch.exp(out).cpu().numpy()) # log_softmax -> softmax\n",
        "\n",
        "    # Calculate metrics\n",
        "    accuracy = accuracy_score(all_labels, all_preds)\n",
        "    f1 = f1_score(all_labels, all_preds, average='weighted')\n",
        "    # Calculate AUC, ensure there's at least one positive sample and probabilities are correctly shaped\n",
        "    auc_score = 0 # Default AUC if calculation fails\n",
        "    if len(np.unique(all_labels)) > 1 and np.array(all_probs).shape[1] == 2:\n",
        "        try:\n",
        "            # Get probability of the positive class (AD, label 1)\n",
        "            probs_positive_class = np.array(all_probs)[:, 1]\n",
        "            auc_score = roc_auc_score(all_labels, probs_positive_class)\n",
        "        except Exception as e:\n",
        "            print(f\"Warning: Could not calculate AUC: {e}\")\n",
        "            auc_score = 0\n",
        "\n",
        "    # Calculate Recall for the positive class (AD, label 1)\n",
        "    recall = 0 # Default recall if calculation fails or no positive samples\n",
        "    if len(all_labels) > 0 and 1 in all_labels:\n",
        "        try:\n",
        "            recall = recall_score(all_labels, all_preds, pos_label=1)\n",
        "        except Exception as e:\n",
        "            print(f\"Warning: Could not calculate Recall: {e}\")\n",
        "            recall = 0\n",
        "\n",
        "\n",
        "    return accuracy, f1, auc_score, recall, all_preds, all_labels, np.array(all_probs)\n",
        "\n",
        "def plot_confusion_matrix(cm, class_names, title):\n",
        "    \"\"\"\n",
        "    Visualising Confusion Matrix\n",
        "    \"\"\"\n",
        "    df_cm = pd.DataFrame(cm, index=class_names, columns=class_names)\n",
        "    plt.figure(figsize=(6, 5))\n",
        "    sns.heatmap(df_cm, annot=True, fmt=\"d\", cmap='Blues')\n",
        "    plt.title(title)\n",
        "    plt.ylabel('Actual')\n",
        "    plt.xlabel('Predicted')\n",
        "    plt.show()\n",
        "\n",
        "print(\"▶︎ Finished Defining Training and Testing Function.\")"
      ]
    },
    {
      "cell_type": "code",
      "execution_count": null,
      "metadata": {
        "colab": {
          "base_uri": "https://localhost:8080/"
        },
        "id": "v3-mg1jgHP78",
        "outputId": "cd916b59-3e79-4a6f-9288-4c8908560161"
      },
      "outputs": [
        {
          "output_type": "stream",
          "name": "stdout",
          "text": [
            "🖥️ Current Device: cuda\n"
          ]
        }
      ],
      "source": [
        "#@title 5. Train and Save Each Atlas' Model\n",
        "# ==============================================================================\n",
        "# Training GCN model to Schaefer and AAL Dataset respectively,\n",
        "# & Save the weight\n",
        "# ==============================================================================\n",
        "device = torch.device('cuda' if torch.cuda.is_available() else 'cpu')\n",
        "print(f\"🖥️ Current Device: {device}\")\n"
      ]
    },
    {
      "cell_type": "code",
      "execution_count": null,
      "metadata": {
        "id": "EcXXJ1FYeKhb"
      },
      "outputs": [],
      "source": [
        "# --- Model Training  ---\n",
        "def run_training(atlas_name, dataset, num_epochs=100):\n",
        "    print(\"-\" * 50)\n",
        "    print(f\"▶︎ Start Training {atlas_name} Atlas Model ...\")\n",
        "\n",
        "    # Data Splitting\n",
        "    train_idx, test_idx = train_test_split(\n",
        "        np.arange(len(dataset)),\n",
        "        test_size=0.2,\n",
        "        random_state=42,\n",
        "        stratify=[data.y.item() for data in dataset]\n",
        "    )\n",
        "    train_dataset = dataset[train_idx]\n",
        "    test_dataset = dataset[test_idx]\n",
        "    train_loader = DataLoader(train_dataset, batch_size=BATCH_SIZE, shuffle=True)\n",
        "    test_loader = DataLoader(test_dataset, batch_size=BATCH_SIZE, shuffle=False)\n",
        "\n",
        "    # Initialise Model, Optimiser, Loss function\n",
        "    model = GCN(\n",
        "        num_node_features=dataset.num_node_features,\n",
        "        num_classes=dataset.num_classes,\n",
        "        hidden_channels=64\n",
        "    ).to(device)\n",
        "    optimizer = torch.optim.Adam(model.parameters(), lr=LEARNING_RATE)\n",
        "    criterion = torch.nn.CrossEntropyLoss()\n",
        "\n",
        "    # Training the model\n",
        "    for epoch in range(1, num_epochs + 1):\n",
        "        loss = train_model(model, train_loader, criterion, optimizer, device)\n",
        "        if epoch % 10 == 0:\n",
        "            print(f'Epoch: {epoch:03d}, Loss: {loss:.4f}')\n",
        "\n",
        "    # Evaluating the model\n",
        "    test_acc, test_f1, test_auc, test_recall, _, _, _ = test_model(model, test_loader, device) # Capture all returned metrics\n",
        "    print(f\"{atlas_name} Model Test Accuracy: {test_acc:.4f}\")\n",
        "    print(f\"{atlas_name} Model Test F1-Score: {test_f1:.4f}\")\n",
        "    print(f\"{atlas_name} Model Test AUC: {test_auc:.4f}\")\n",
        "    print(f\"{atlas_name} Model Test Recall (AD): {test_recall:.4f}\")\n",
        "\n",
        "\n",
        "    # Saving the trained model\n",
        "    model_save_path = f'./{atlas_name}_gcn_model.pth'\n",
        "    torch.save(model.state_dict(), model_save_path)\n",
        "    print(f\"{atlas_name} model is save in the path: '{model_save_path}'.\")\n",
        "    print(\"-\" * 50)\n",
        "\n",
        "    return model, test_loader"
      ]
    },
    {
      "cell_type": "code",
      "execution_count": null,
      "metadata": {
        "colab": {
          "base_uri": "https://localhost:8080/",
          "height": 1000
        },
        "id": "bIbT2iLxdvsy",
        "outputId": "0c925ae7-3ec4-4861-cb84-2ad1aa9d7836"
      },
      "outputs": [
        {
          "output_type": "stream",
          "name": "stdout",
          "text": [
            "\n",
            "================================================================================\n",
            " Starting AAL Model Cross-Validation with KNN Graph\n",
            "================================================================================\n",
            "\n",
            "Initialized dataset with 289 valid subjects.\n",
            "\n",
            "=============== FOLD 1/10 ================\n",
            "Initialized dataset with 289 valid subjects.\n",
            "\n",
            "Fold 1: Training AAL Model with KNN Graph...\n"
          ]
        },
        {
          "output_type": "stream",
          "name": "stderr",
          "text": [
            "Training: 100%|██████████| 9/9 [00:00<00:00, 45.28it/s]\n",
            "Training: 100%|██████████| 9/9 [00:00<00:00, 49.94it/s]\n",
            "Training: 100%|██████████| 9/9 [00:00<00:00, 49.36it/s]\n",
            "Training: 100%|██████████| 9/9 [00:00<00:00, 49.58it/s]\n",
            "Training: 100%|██████████| 9/9 [00:00<00:00, 47.45it/s]\n",
            "Training: 100%|██████████| 9/9 [00:00<00:00, 50.16it/s]\n",
            "Training: 100%|██████████| 9/9 [00:00<00:00, 42.26it/s]\n",
            "Training: 100%|██████████| 9/9 [00:00<00:00, 11.73it/s]\n",
            "Training: 100%|██████████| 9/9 [00:00<00:00, 12.29it/s]\n",
            "Training: 100%|██████████| 9/9 [00:00<00:00, 35.10it/s]\n"
          ]
        },
        {
          "output_type": "stream",
          "name": "stdout",
          "text": [
            "  AAL Epoch: 010, Train Loss: 0.6376\n"
          ]
        },
        {
          "output_type": "stream",
          "name": "stderr",
          "text": [
            "Training: 100%|██████████| 9/9 [00:00<00:00, 37.09it/s]\n",
            "Training: 100%|██████████| 9/9 [00:00<00:00, 36.99it/s]\n",
            "Training: 100%|██████████| 9/9 [00:00<00:00, 38.70it/s]\n",
            "Training: 100%|██████████| 9/9 [00:00<00:00, 38.28it/s]\n",
            "Training: 100%|██████████| 9/9 [00:00<00:00, 33.90it/s]\n",
            "Training: 100%|██████████| 9/9 [00:00<00:00, 32.88it/s]\n",
            "Training: 100%|██████████| 9/9 [00:00<00:00, 35.04it/s]\n",
            "Training: 100%|██████████| 9/9 [00:00<00:00, 50.52it/s]\n",
            "Training: 100%|██████████| 9/9 [00:00<00:00, 49.57it/s]\n",
            "Training: 100%|██████████| 9/9 [00:00<00:00, 50.98it/s]\n"
          ]
        },
        {
          "output_type": "stream",
          "name": "stdout",
          "text": [
            "  AAL Epoch: 020, Train Loss: 0.5849\n"
          ]
        },
        {
          "output_type": "stream",
          "name": "stderr",
          "text": [
            "Training: 100%|██████████| 9/9 [00:00<00:00, 46.72it/s]\n",
            "Training: 100%|██████████| 9/9 [00:00<00:00, 50.27it/s]\n",
            "Training: 100%|██████████| 9/9 [00:00<00:00, 51.29it/s]\n",
            "Training: 100%|██████████| 9/9 [00:00<00:00, 49.90it/s]\n",
            "Training: 100%|██████████| 9/9 [00:00<00:00, 50.11it/s]\n",
            "Training: 100%|██████████| 9/9 [00:00<00:00, 50.82it/s]\n",
            "Training: 100%|██████████| 9/9 [00:00<00:00, 46.94it/s]\n",
            "Training: 100%|██████████| 9/9 [00:00<00:00, 50.25it/s]\n",
            "Training: 100%|██████████| 9/9 [00:00<00:00, 50.65it/s]\n",
            "Training: 100%|██████████| 9/9 [00:00<00:00, 48.81it/s]\n"
          ]
        },
        {
          "output_type": "stream",
          "name": "stdout",
          "text": [
            "  AAL Epoch: 030, Train Loss: 0.4705\n",
            "Fold 1 Test Accuracy: 0.6552, AUC: 0.7579, Recall (AD): 0.2000\n",
            "\n",
            "=============== FOLD 2/10 ================\n",
            "Initialized dataset with 289 valid subjects.\n",
            "\n",
            "Fold 2: Training AAL Model with KNN Graph...\n"
          ]
        },
        {
          "output_type": "stream",
          "name": "stderr",
          "text": [
            "Training: 100%|██████████| 9/9 [00:00<00:00, 49.56it/s]\n",
            "Training: 100%|██████████| 9/9 [00:00<00:00, 51.24it/s]\n",
            "Training: 100%|██████████| 9/9 [00:00<00:00, 48.82it/s]\n",
            "Training: 100%|██████████| 9/9 [00:00<00:00, 50.69it/s]\n",
            "Training: 100%|██████████| 9/9 [00:00<00:00, 50.48it/s]\n",
            "Training: 100%|██████████| 9/9 [00:00<00:00, 47.07it/s]\n",
            "Training: 100%|██████████| 9/9 [00:00<00:00, 51.14it/s]\n",
            "Training: 100%|██████████| 9/9 [00:00<00:00, 49.52it/s]\n",
            "Training: 100%|██████████| 9/9 [00:00<00:00, 49.68it/s]\n",
            "Training: 100%|██████████| 9/9 [00:00<00:00, 49.66it/s]\n"
          ]
        },
        {
          "output_type": "stream",
          "name": "stdout",
          "text": [
            "  AAL Epoch: 010, Train Loss: 0.6244\n"
          ]
        },
        {
          "output_type": "stream",
          "name": "stderr",
          "text": [
            "Training: 100%|██████████| 9/9 [00:00<00:00, 46.20it/s]\n",
            "Training: 100%|██████████| 9/9 [00:00<00:00, 50.19it/s]\n",
            "Training: 100%|██████████| 9/9 [00:00<00:00, 50.34it/s]\n",
            "Training: 100%|██████████| 9/9 [00:00<00:00, 49.40it/s]\n",
            "Training: 100%|██████████| 9/9 [00:00<00:00, 49.70it/s]\n",
            "Training: 100%|██████████| 9/9 [00:00<00:00, 49.40it/s]\n",
            "Training: 100%|██████████| 9/9 [00:00<00:00, 46.47it/s]\n",
            "Training: 100%|██████████| 9/9 [00:00<00:00, 49.75it/s]\n",
            "Training: 100%|██████████| 9/9 [00:00<00:00, 50.16it/s]\n",
            "Training: 100%|██████████| 9/9 [00:00<00:00, 49.41it/s]\n"
          ]
        },
        {
          "output_type": "stream",
          "name": "stdout",
          "text": [
            "  AAL Epoch: 020, Train Loss: 0.5667\n"
          ]
        },
        {
          "output_type": "stream",
          "name": "stderr",
          "text": [
            "Training: 100%|██████████| 9/9 [00:00<00:00, 47.57it/s]\n",
            "Training: 100%|██████████| 9/9 [00:00<00:00, 50.11it/s]\n",
            "Training: 100%|██████████| 9/9 [00:00<00:00, 48.01it/s]\n",
            "Training: 100%|██████████| 9/9 [00:00<00:00, 48.80it/s]\n",
            "Training: 100%|██████████| 9/9 [00:00<00:00, 49.90it/s]\n",
            "Training: 100%|██████████| 9/9 [00:00<00:00, 49.34it/s]\n",
            "Training: 100%|██████████| 9/9 [00:00<00:00, 49.09it/s]\n",
            "Training: 100%|██████████| 9/9 [00:00<00:00, 38.91it/s]\n",
            "Training: 100%|██████████| 9/9 [00:00<00:00, 49.39it/s]\n",
            "Training: 100%|██████████| 9/9 [00:00<00:00, 48.78it/s]\n"
          ]
        },
        {
          "output_type": "stream",
          "name": "stdout",
          "text": [
            "  AAL Epoch: 030, Train Loss: 0.4278\n",
            "Fold 2 Test Accuracy: 0.6897, AUC: 0.7421, Recall (AD): 0.2000\n",
            "\n",
            "=============== FOLD 3/10 ================\n",
            "Initialized dataset with 289 valid subjects.\n",
            "\n",
            "Fold 3: Training AAL Model with KNN Graph...\n"
          ]
        },
        {
          "output_type": "stream",
          "name": "stderr",
          "text": [
            "Training: 100%|██████████| 9/9 [00:00<00:00, 48.77it/s]\n",
            "Training: 100%|██████████| 9/9 [00:00<00:00, 47.01it/s]\n",
            "Training: 100%|██████████| 9/9 [00:00<00:00, 49.47it/s]\n",
            "Training: 100%|██████████| 9/9 [00:00<00:00, 49.86it/s]\n",
            "Training: 100%|██████████| 9/9 [00:00<00:00, 50.20it/s]\n",
            "Training: 100%|██████████| 9/9 [00:00<00:00, 49.58it/s]\n",
            "Training: 100%|██████████| 9/9 [00:00<00:00, 41.11it/s]\n",
            "Training: 100%|██████████| 9/9 [00:00<00:00, 34.64it/s]\n",
            "Training: 100%|██████████| 9/9 [00:00<00:00, 37.69it/s]\n",
            "Training: 100%|██████████| 9/9 [00:00<00:00, 37.85it/s]\n"
          ]
        },
        {
          "output_type": "stream",
          "name": "stdout",
          "text": [
            "  AAL Epoch: 010, Train Loss: 0.6335\n"
          ]
        },
        {
          "output_type": "stream",
          "name": "stderr",
          "text": [
            "Training: 100%|██████████| 9/9 [00:00<00:00, 35.42it/s]\n",
            "Training: 100%|██████████| 9/9 [00:00<00:00, 34.27it/s]\n",
            "Training: 100%|██████████| 9/9 [00:00<00:00, 36.90it/s]\n",
            "Training: 100%|██████████| 9/9 [00:00<00:00, 37.67it/s]\n",
            "Training: 100%|██████████| 9/9 [00:00<00:00, 37.09it/s]\n",
            "Training: 100%|██████████| 9/9 [00:00<00:00, 37.32it/s]\n",
            "Training: 100%|██████████| 9/9 [00:00<00:00, 34.06it/s]\n",
            "Training: 100%|██████████| 9/9 [00:00<00:00, 32.89it/s]\n",
            "Training: 100%|██████████| 9/9 [00:00<00:00, 33.31it/s]\n",
            "Training: 100%|██████████| 9/9 [00:00<00:00, 45.12it/s]\n"
          ]
        },
        {
          "output_type": "stream",
          "name": "stdout",
          "text": [
            "  AAL Epoch: 020, Train Loss: 0.5690\n"
          ]
        },
        {
          "output_type": "stream",
          "name": "stderr",
          "text": [
            "Training: 100%|██████████| 9/9 [00:00<00:00, 48.99it/s]\n",
            "Training: 100%|██████████| 9/9 [00:00<00:00, 50.00it/s]\n",
            "Training: 100%|██████████| 9/9 [00:00<00:00, 51.19it/s]\n",
            "Training: 100%|██████████| 9/9 [00:00<00:00, 51.42it/s]\n",
            "Training: 100%|██████████| 9/9 [00:00<00:00, 45.94it/s]\n",
            "Training: 100%|██████████| 9/9 [00:00<00:00, 50.11it/s]\n",
            "Training: 100%|██████████| 9/9 [00:00<00:00, 50.10it/s]\n",
            "Training: 100%|██████████| 9/9 [00:00<00:00, 46.85it/s]\n",
            "Training: 100%|██████████| 9/9 [00:00<00:00, 49.63it/s]\n",
            "Training: 100%|██████████| 9/9 [00:00<00:00, 49.24it/s]\n"
          ]
        },
        {
          "output_type": "stream",
          "name": "stdout",
          "text": [
            "  AAL Epoch: 030, Train Loss: 0.4509\n",
            "Fold 3 Test Accuracy: 0.7586, AUC: 0.7684, Recall (AD): 0.6000\n",
            "\n",
            "=============== FOLD 4/10 ================\n",
            "Initialized dataset with 289 valid subjects.\n",
            "\n",
            "Fold 4: Training AAL Model with KNN Graph...\n"
          ]
        },
        {
          "output_type": "stream",
          "name": "stderr",
          "text": [
            "Training: 100%|██████████| 9/9 [00:00<00:00, 47.07it/s]\n",
            "Training: 100%|██████████| 9/9 [00:00<00:00, 50.46it/s]\n",
            "Training: 100%|██████████| 9/9 [00:00<00:00, 50.46it/s]\n",
            "Training: 100%|██████████| 9/9 [00:00<00:00, 45.66it/s]\n",
            "Training: 100%|██████████| 9/9 [00:00<00:00, 49.83it/s]\n",
            "Training: 100%|██████████| 9/9 [00:00<00:00, 47.12it/s]\n",
            "Training: 100%|██████████| 9/9 [00:00<00:00, 49.57it/s]\n",
            "Training: 100%|██████████| 9/9 [00:00<00:00, 50.72it/s]\n",
            "Training: 100%|██████████| 9/9 [00:00<00:00, 46.66it/s]\n",
            "Training: 100%|██████████| 9/9 [00:00<00:00, 45.72it/s]\n"
          ]
        },
        {
          "output_type": "stream",
          "name": "stdout",
          "text": [
            "  AAL Epoch: 010, Train Loss: 0.6303\n"
          ]
        },
        {
          "output_type": "stream",
          "name": "stderr",
          "text": [
            "Training: 100%|██████████| 9/9 [00:00<00:00, 50.02it/s]\n",
            "Training: 100%|██████████| 9/9 [00:00<00:00, 49.94it/s]\n",
            "Training: 100%|██████████| 9/9 [00:00<00:00, 50.48it/s]\n",
            "Training: 100%|██████████| 9/9 [00:00<00:00, 50.40it/s]\n",
            "Training: 100%|██████████| 9/9 [00:00<00:00, 45.44it/s]\n",
            "Training: 100%|██████████| 9/9 [00:00<00:00, 51.01it/s]\n",
            "Training: 100%|██████████| 9/9 [00:00<00:00, 50.19it/s]\n",
            "Training: 100%|██████████| 9/9 [00:00<00:00, 51.20it/s]\n",
            "Training: 100%|██████████| 9/9 [00:00<00:00, 49.42it/s]\n",
            "Training: 100%|██████████| 9/9 [00:00<00:00, 49.65it/s]\n"
          ]
        },
        {
          "output_type": "stream",
          "name": "stdout",
          "text": [
            "  AAL Epoch: 020, Train Loss: 0.5528\n"
          ]
        },
        {
          "output_type": "stream",
          "name": "stderr",
          "text": [
            "Training: 100%|██████████| 9/9 [00:00<00:00, 45.68it/s]\n",
            "Training: 100%|██████████| 9/9 [00:00<00:00, 48.95it/s]\n",
            "Training: 100%|██████████| 9/9 [00:00<00:00, 50.09it/s]\n",
            "Training: 100%|██████████| 9/9 [00:00<00:00, 50.03it/s]\n",
            "Training: 100%|██████████| 9/9 [00:00<00:00, 49.03it/s]\n",
            "Training: 100%|██████████| 9/9 [00:00<00:00, 46.53it/s]\n",
            "Training: 100%|██████████| 9/9 [00:00<00:00, 49.43it/s]\n",
            "Training: 100%|██████████| 9/9 [00:00<00:00, 49.24it/s]\n",
            "Training: 100%|██████████| 9/9 [00:00<00:00, 51.20it/s]\n",
            "Training: 100%|██████████| 9/9 [00:00<00:00, 50.38it/s]\n"
          ]
        },
        {
          "output_type": "stream",
          "name": "stdout",
          "text": [
            "  AAL Epoch: 030, Train Loss: 0.4274\n",
            "Fold 4 Test Accuracy: 0.5172, AUC: 0.5947, Recall (AD): 0.2000\n",
            "\n",
            "=============== FOLD 5/10 ================\n",
            "Initialized dataset with 289 valid subjects.\n",
            "\n",
            "Fold 5: Training AAL Model with KNN Graph...\n"
          ]
        },
        {
          "output_type": "stream",
          "name": "stderr",
          "text": [
            "Training: 100%|██████████| 9/9 [00:00<00:00, 48.94it/s]\n",
            "Training: 100%|██████████| 9/9 [00:00<00:00, 49.29it/s]\n",
            "Training: 100%|██████████| 9/9 [00:00<00:00, 50.17it/s]\n",
            "Training: 100%|██████████| 9/9 [00:00<00:00, 49.55it/s]\n",
            "Training: 100%|██████████| 9/9 [00:00<00:00, 49.72it/s]\n",
            "Training: 100%|██████████| 9/9 [00:00<00:00, 45.85it/s]\n",
            "Training: 100%|██████████| 9/9 [00:00<00:00, 49.49it/s]\n",
            "Training: 100%|██████████| 9/9 [00:00<00:00, 50.57it/s]\n",
            "Training: 100%|██████████| 9/9 [00:00<00:00, 44.89it/s]\n",
            "Training: 100%|██████████| 9/9 [00:00<00:00, 34.42it/s]\n"
          ]
        },
        {
          "output_type": "stream",
          "name": "stdout",
          "text": [
            "  AAL Epoch: 010, Train Loss: 0.6329\n"
          ]
        },
        {
          "output_type": "stream",
          "name": "stderr",
          "text": [
            "Training: 100%|██████████| 9/9 [00:00<00:00, 34.82it/s]\n",
            "Training: 100%|██████████| 9/9 [00:00<00:00, 37.59it/s]\n",
            "Training: 100%|██████████| 9/9 [00:00<00:00, 38.22it/s]\n",
            "Training: 100%|██████████| 9/9 [00:00<00:00, 32.85it/s]\n",
            "Training: 100%|██████████| 9/9 [00:00<00:00, 35.22it/s]\n",
            "Training: 100%|██████████| 9/9 [00:00<00:00, 38.00it/s]\n",
            "Training: 100%|██████████| 9/9 [00:00<00:00, 36.51it/s]\n",
            "Training: 100%|██████████| 9/9 [00:00<00:00, 38.28it/s]\n",
            "Training: 100%|██████████| 9/9 [00:00<00:00, 32.71it/s]\n",
            "Training: 100%|██████████| 9/9 [00:00<00:00, 33.60it/s]\n"
          ]
        },
        {
          "output_type": "stream",
          "name": "stdout",
          "text": [
            "  AAL Epoch: 020, Train Loss: 0.5629\n"
          ]
        },
        {
          "output_type": "stream",
          "name": "stderr",
          "text": [
            "Training: 100%|██████████| 9/9 [00:00<00:00, 32.36it/s]\n",
            "Training: 100%|██████████| 9/9 [00:00<00:00, 47.21it/s]\n",
            "Training: 100%|██████████| 9/9 [00:00<00:00, 46.42it/s]\n",
            "Training: 100%|██████████| 9/9 [00:00<00:00, 43.80it/s]\n",
            "Training: 100%|██████████| 9/9 [00:00<00:00, 49.36it/s]\n",
            "Training: 100%|██████████| 9/9 [00:00<00:00, 48.02it/s]\n",
            "Training: 100%|██████████| 9/9 [00:00<00:00, 48.78it/s]\n",
            "Training: 100%|██████████| 9/9 [00:00<00:00, 49.88it/s]\n",
            "Training: 100%|██████████| 9/9 [00:00<00:00, 47.29it/s]\n",
            "Training: 100%|██████████| 9/9 [00:00<00:00, 50.64it/s]\n"
          ]
        },
        {
          "output_type": "stream",
          "name": "stdout",
          "text": [
            "  AAL Epoch: 030, Train Loss: 0.4141\n",
            "Fold 5 Test Accuracy: 0.6207, AUC: 0.7121, Recall (AD): 0.3636\n",
            "\n",
            "=============== FOLD 6/10 ================\n",
            "Initialized dataset with 289 valid subjects.\n",
            "\n",
            "Fold 6: Training AAL Model with KNN Graph...\n"
          ]
        },
        {
          "output_type": "stream",
          "name": "stderr",
          "text": [
            "Training: 100%|██████████| 9/9 [00:00<00:00, 47.98it/s]\n",
            "Training: 100%|██████████| 9/9 [00:00<00:00, 48.13it/s]\n",
            "Training: 100%|██████████| 9/9 [00:00<00:00, 47.83it/s]\n",
            "Training: 100%|██████████| 9/9 [00:00<00:00, 49.55it/s]\n",
            "Training: 100%|██████████| 9/9 [00:00<00:00, 50.73it/s]\n",
            "Training: 100%|██████████| 9/9 [00:00<00:00, 49.84it/s]\n",
            "Training: 100%|██████████| 9/9 [00:00<00:00, 50.08it/s]\n",
            "Training: 100%|██████████| 9/9 [00:00<00:00, 46.95it/s]\n",
            "Training: 100%|██████████| 9/9 [00:00<00:00, 50.15it/s]\n",
            "Training: 100%|██████████| 9/9 [00:00<00:00, 48.81it/s]\n"
          ]
        },
        {
          "output_type": "stream",
          "name": "stdout",
          "text": [
            "  AAL Epoch: 010, Train Loss: 0.6341\n"
          ]
        },
        {
          "output_type": "stream",
          "name": "stderr",
          "text": [
            "Training: 100%|██████████| 9/9 [00:00<00:00, 49.30it/s]\n",
            "Training: 100%|██████████| 9/9 [00:00<00:00, 49.60it/s]\n",
            "Training: 100%|██████████| 9/9 [00:00<00:00, 49.05it/s]\n",
            "Training: 100%|██████████| 9/9 [00:00<00:00, 47.29it/s]\n",
            "Training: 100%|██████████| 9/9 [00:00<00:00, 49.60it/s]\n",
            "Training: 100%|██████████| 9/9 [00:00<00:00, 49.59it/s]\n",
            "Training: 100%|██████████| 9/9 [00:00<00:00, 49.31it/s]\n",
            "Training: 100%|██████████| 9/9 [00:00<00:00, 49.94it/s]\n",
            "Training: 100%|██████████| 9/9 [00:00<00:00, 45.96it/s]\n",
            "Training: 100%|██████████| 9/9 [00:00<00:00, 49.77it/s]\n"
          ]
        },
        {
          "output_type": "stream",
          "name": "stdout",
          "text": [
            "  AAL Epoch: 020, Train Loss: 0.5571\n"
          ]
        },
        {
          "output_type": "stream",
          "name": "stderr",
          "text": [
            "Training: 100%|██████████| 9/9 [00:00<00:00, 49.38it/s]\n",
            "Training: 100%|██████████| 9/9 [00:00<00:00, 49.27it/s]\n",
            "Training: 100%|██████████| 9/9 [00:00<00:00, 50.55it/s]\n",
            "Training: 100%|██████████| 9/9 [00:00<00:00, 49.08it/s]\n",
            "Training: 100%|██████████| 9/9 [00:00<00:00, 45.88it/s]\n",
            "Training: 100%|██████████| 9/9 [00:00<00:00, 50.86it/s]\n",
            "Training: 100%|██████████| 9/9 [00:00<00:00, 50.04it/s]\n",
            "Training: 100%|██████████| 9/9 [00:00<00:00, 49.38it/s]\n",
            "Training: 100%|██████████| 9/9 [00:00<00:00, 50.00it/s]\n",
            "Training: 100%|██████████| 9/9 [00:00<00:00, 46.82it/s]\n"
          ]
        },
        {
          "output_type": "stream",
          "name": "stdout",
          "text": [
            "  AAL Epoch: 030, Train Loss: 0.3975\n",
            "Fold 6 Test Accuracy: 0.6897, AUC: 0.7273, Recall (AD): 0.1818\n",
            "\n",
            "=============== FOLD 7/10 ================\n",
            "Initialized dataset with 289 valid subjects.\n",
            "\n",
            "Fold 7: Training AAL Model with KNN Graph...\n"
          ]
        },
        {
          "output_type": "stream",
          "name": "stderr",
          "text": [
            "Training: 100%|██████████| 9/9 [00:00<00:00, 48.97it/s]\n",
            "Training: 100%|██████████| 9/9 [00:00<00:00, 48.24it/s]\n",
            "Training: 100%|██████████| 9/9 [00:00<00:00, 49.68it/s]\n",
            "Training: 100%|██████████| 9/9 [00:00<00:00, 46.88it/s]\n",
            "Training: 100%|██████████| 9/9 [00:00<00:00, 49.74it/s]\n",
            "Training: 100%|██████████| 9/9 [00:00<00:00, 49.24it/s]\n",
            "Training: 100%|██████████| 9/9 [00:00<00:00, 49.78it/s]\n",
            "Training: 100%|██████████| 9/9 [00:00<00:00, 49.39it/s]\n",
            "Training: 100%|██████████| 9/9 [00:00<00:00, 47.76it/s]\n",
            "Training: 100%|██████████| 9/9 [00:00<00:00, 50.09it/s]\n"
          ]
        },
        {
          "output_type": "stream",
          "name": "stdout",
          "text": [
            "  AAL Epoch: 010, Train Loss: 0.6313\n"
          ]
        },
        {
          "output_type": "stream",
          "name": "stderr",
          "text": [
            "Training: 100%|██████████| 9/9 [00:00<00:00, 42.17it/s]\n",
            "Training: 100%|██████████| 9/9 [00:00<00:00, 34.54it/s]\n",
            "Training: 100%|██████████| 9/9 [00:00<00:00, 38.02it/s]\n",
            "Training: 100%|██████████| 9/9 [00:00<00:00, 33.27it/s]\n",
            "Training: 100%|██████████| 9/9 [00:00<00:00, 38.00it/s]\n",
            "Training: 100%|██████████| 9/9 [00:00<00:00, 34.54it/s]\n",
            "Training: 100%|██████████| 9/9 [00:00<00:00, 37.95it/s]\n",
            "Training: 100%|██████████| 9/9 [00:00<00:00, 32.96it/s]\n",
            "Training: 100%|██████████| 9/9 [00:00<00:00, 37.89it/s]\n",
            "Training: 100%|██████████| 9/9 [00:00<00:00, 39.28it/s]\n"
          ]
        },
        {
          "output_type": "stream",
          "name": "stdout",
          "text": [
            "  AAL Epoch: 020, Train Loss: 0.5722\n"
          ]
        },
        {
          "output_type": "stream",
          "name": "stderr",
          "text": [
            "Training: 100%|██████████| 9/9 [00:00<00:00, 37.20it/s]\n",
            "Training: 100%|██████████| 9/9 [00:00<00:00, 33.98it/s]\n",
            "Training: 100%|██████████| 9/9 [00:00<00:00, 30.95it/s]\n",
            "Training: 100%|██████████| 9/9 [00:00<00:00, 37.47it/s]\n",
            "Training: 100%|██████████| 9/9 [00:00<00:00, 49.72it/s]\n",
            "Training: 100%|██████████| 9/9 [00:00<00:00, 50.02it/s]\n",
            "Training: 100%|██████████| 9/9 [00:00<00:00, 48.25it/s]\n",
            "Training: 100%|██████████| 9/9 [00:00<00:00, 46.73it/s]\n",
            "Training: 100%|██████████| 9/9 [00:00<00:00, 49.52it/s]\n",
            "Training: 100%|██████████| 9/9 [00:00<00:00, 50.16it/s]\n"
          ]
        },
        {
          "output_type": "stream",
          "name": "stdout",
          "text": [
            "  AAL Epoch: 030, Train Loss: 0.4452\n",
            "Fold 7 Test Accuracy: 0.6897, AUC: 0.8182, Recall (AD): 0.3636\n",
            "\n",
            "=============== FOLD 8/10 ================\n",
            "Initialized dataset with 289 valid subjects.\n",
            "\n",
            "Fold 8: Training AAL Model with KNN Graph...\n"
          ]
        },
        {
          "output_type": "stream",
          "name": "stderr",
          "text": [
            "Training: 100%|██████████| 9/9 [00:00<00:00, 44.76it/s]\n",
            "Training: 100%|██████████| 9/9 [00:00<00:00, 46.36it/s]\n",
            "Training: 100%|██████████| 9/9 [00:00<00:00, 48.93it/s]\n",
            "Training: 100%|██████████| 9/9 [00:00<00:00, 49.38it/s]\n",
            "Training: 100%|██████████| 9/9 [00:00<00:00, 49.80it/s]\n",
            "Training: 100%|██████████| 9/9 [00:00<00:00, 48.30it/s]\n",
            "Training: 100%|██████████| 9/9 [00:00<00:00, 46.29it/s]\n",
            "Training: 100%|██████████| 9/9 [00:00<00:00, 49.12it/s]\n",
            "Training: 100%|██████████| 9/9 [00:00<00:00, 49.84it/s]\n",
            "Training: 100%|██████████| 9/9 [00:00<00:00, 48.58it/s]\n"
          ]
        },
        {
          "output_type": "stream",
          "name": "stdout",
          "text": [
            "  AAL Epoch: 010, Train Loss: 0.6321\n"
          ]
        },
        {
          "output_type": "stream",
          "name": "stderr",
          "text": [
            "Training: 100%|██████████| 9/9 [00:00<00:00, 50.12it/s]\n",
            "Training: 100%|██████████| 9/9 [00:00<00:00, 45.71it/s]\n",
            "Training: 100%|██████████| 9/9 [00:00<00:00, 49.84it/s]\n",
            "Training: 100%|██████████| 9/9 [00:00<00:00, 50.41it/s]\n",
            "Training: 100%|██████████| 9/9 [00:00<00:00, 50.56it/s]\n",
            "Training: 100%|██████████| 9/9 [00:00<00:00, 49.08it/s]\n",
            "Training: 100%|██████████| 9/9 [00:00<00:00, 51.09it/s]\n",
            "Training: 100%|██████████| 9/9 [00:00<00:00, 46.93it/s]\n",
            "Training: 100%|██████████| 9/9 [00:00<00:00, 50.59it/s]\n",
            "Training: 100%|██████████| 9/9 [00:00<00:00, 51.24it/s]\n"
          ]
        },
        {
          "output_type": "stream",
          "name": "stdout",
          "text": [
            "  AAL Epoch: 020, Train Loss: 0.5830\n"
          ]
        },
        {
          "output_type": "stream",
          "name": "stderr",
          "text": [
            "Training: 100%|██████████| 9/9 [00:00<00:00, 49.75it/s]\n",
            "Training: 100%|██████████| 9/9 [00:00<00:00, 50.25it/s]\n",
            "Training: 100%|██████████| 9/9 [00:00<00:00, 46.36it/s]\n",
            "Training: 100%|██████████| 9/9 [00:00<00:00, 49.80it/s]\n",
            "Training: 100%|██████████| 9/9 [00:00<00:00, 49.69it/s]\n",
            "Training: 100%|██████████| 9/9 [00:00<00:00, 48.64it/s]\n",
            "Training: 100%|██████████| 9/9 [00:00<00:00, 46.33it/s]\n",
            "Training: 100%|██████████| 9/9 [00:00<00:00, 47.44it/s]\n",
            "Training: 100%|██████████| 9/9 [00:00<00:00, 39.87it/s]\n",
            "Training: 100%|██████████| 9/9 [00:00<00:00, 42.18it/s]\n"
          ]
        },
        {
          "output_type": "stream",
          "name": "stdout",
          "text": [
            "  AAL Epoch: 030, Train Loss: 0.4602\n",
            "Fold 8 Test Accuracy: 0.6897, AUC: 0.8586, Recall (AD): 0.2727\n",
            "\n",
            "=============== FOLD 9/10 ================\n",
            "Initialized dataset with 289 valid subjects.\n",
            "\n",
            "Fold 9: Training AAL Model with KNN Graph...\n"
          ]
        },
        {
          "output_type": "stream",
          "name": "stderr",
          "text": [
            "Training: 100%|██████████| 9/9 [00:00<00:00, 43.36it/s]\n",
            "Training: 100%|██████████| 9/9 [00:00<00:00, 41.51it/s]\n",
            "Training: 100%|██████████| 9/9 [00:00<00:00, 47.88it/s]\n",
            "Training: 100%|██████████| 9/9 [00:00<00:00, 48.16it/s]\n",
            "Training: 100%|██████████| 9/9 [00:00<00:00, 46.46it/s]\n",
            "Training: 100%|██████████| 9/9 [00:00<00:00, 48.87it/s]\n",
            "Training: 100%|██████████| 9/9 [00:00<00:00, 45.89it/s]\n",
            "Training: 100%|██████████| 9/9 [00:00<00:00, 49.69it/s]\n",
            "Training: 100%|██████████| 9/9 [00:00<00:00, 49.39it/s]\n",
            "Training: 100%|██████████| 9/9 [00:00<00:00, 45.56it/s]\n"
          ]
        },
        {
          "output_type": "stream",
          "name": "stdout",
          "text": [
            "  AAL Epoch: 010, Train Loss: 0.6323\n"
          ]
        },
        {
          "output_type": "stream",
          "name": "stderr",
          "text": [
            "Training: 100%|██████████| 9/9 [00:00<00:00, 49.15it/s]\n",
            "Training: 100%|██████████| 9/9 [00:00<00:00, 44.20it/s]\n",
            "Training: 100%|██████████| 9/9 [00:00<00:00, 34.26it/s]\n",
            "Training: 100%|██████████| 9/9 [00:00<00:00, 35.77it/s]\n",
            "Training: 100%|██████████| 9/9 [00:00<00:00, 36.94it/s]\n",
            "Training: 100%|██████████| 9/9 [00:00<00:00, 34.76it/s]\n",
            "Training: 100%|██████████| 9/9 [00:00<00:00, 30.81it/s]\n",
            "Training: 100%|██████████| 9/9 [00:00<00:00, 36.47it/s]\n",
            "Training: 100%|██████████| 9/9 [00:00<00:00, 35.50it/s]\n",
            "Training: 100%|██████████| 9/9 [00:00<00:00, 32.44it/s]\n"
          ]
        },
        {
          "output_type": "stream",
          "name": "stdout",
          "text": [
            "  AAL Epoch: 020, Train Loss: 0.5743\n"
          ]
        },
        {
          "output_type": "stream",
          "name": "stderr",
          "text": [
            "Training: 100%|██████████| 9/9 [00:00<00:00, 37.46it/s]\n",
            "Training: 100%|██████████| 9/9 [00:00<00:00, 34.17it/s]\n",
            "Training: 100%|██████████| 9/9 [00:00<00:00, 33.38it/s]\n",
            "Training: 100%|██████████| 9/9 [00:00<00:00, 31.14it/s]\n",
            "Training: 100%|██████████| 9/9 [00:00<00:00, 44.89it/s]\n",
            "Training: 100%|██████████| 9/9 [00:00<00:00, 49.21it/s]\n",
            "Training: 100%|██████████| 9/9 [00:00<00:00, 51.01it/s]\n",
            "Training: 100%|██████████| 9/9 [00:00<00:00, 50.15it/s]\n",
            "Training: 100%|██████████| 9/9 [00:00<00:00, 49.69it/s]\n",
            "Training: 100%|██████████| 9/9 [00:00<00:00, 46.94it/s]\n"
          ]
        },
        {
          "output_type": "stream",
          "name": "stdout",
          "text": [
            "  AAL Epoch: 030, Train Loss: 0.4178\n",
            "Fold 9 Test Accuracy: 0.8276, AUC: 0.9192, Recall (AD): 0.6364\n",
            "\n",
            "=============== FOLD 10/10 ================\n",
            "Initialized dataset with 289 valid subjects.\n",
            "\n",
            "Fold 10: Training AAL Model with KNN Graph...\n"
          ]
        },
        {
          "output_type": "stream",
          "name": "stderr",
          "text": [
            "Training: 100%|██████████| 9/9 [00:00<00:00, 49.00it/s]\n",
            "Training: 100%|██████████| 9/9 [00:00<00:00, 47.53it/s]\n",
            "Training: 100%|██████████| 9/9 [00:00<00:00, 47.36it/s]\n",
            "Training: 100%|██████████| 9/9 [00:00<00:00, 49.88it/s]\n",
            "Training: 100%|██████████| 9/9 [00:00<00:00, 50.35it/s]\n",
            "Training: 100%|██████████| 9/9 [00:00<00:00, 49.70it/s]\n",
            "Training: 100%|██████████| 9/9 [00:00<00:00, 48.50it/s]\n",
            "Training: 100%|██████████| 9/9 [00:00<00:00, 48.97it/s]\n",
            "Training: 100%|██████████| 9/9 [00:00<00:00, 44.97it/s]\n",
            "Training: 100%|██████████| 9/9 [00:00<00:00, 50.22it/s]\n"
          ]
        },
        {
          "output_type": "stream",
          "name": "stdout",
          "text": [
            "  AAL Epoch: 010, Train Loss: 0.6327\n"
          ]
        },
        {
          "output_type": "stream",
          "name": "stderr",
          "text": [
            "Training: 100%|██████████| 9/9 [00:00<00:00, 48.58it/s]\n",
            "Training: 100%|██████████| 9/9 [00:00<00:00, 49.41it/s]\n",
            "Training: 100%|██████████| 9/9 [00:00<00:00, 46.41it/s]\n",
            "Training: 100%|██████████| 9/9 [00:00<00:00, 45.78it/s]\n",
            "Training: 100%|██████████| 9/9 [00:00<00:00, 49.52it/s]\n",
            "Training: 100%|██████████| 9/9 [00:00<00:00, 49.02it/s]\n",
            "Training: 100%|██████████| 9/9 [00:00<00:00, 45.72it/s]\n",
            "Training: 100%|██████████| 9/9 [00:00<00:00, 49.41it/s]\n",
            "Training: 100%|██████████| 9/9 [00:00<00:00, 49.19it/s]\n",
            "Training: 100%|██████████| 9/9 [00:00<00:00, 45.15it/s]\n"
          ]
        },
        {
          "output_type": "stream",
          "name": "stdout",
          "text": [
            "  AAL Epoch: 020, Train Loss: 0.5577\n"
          ]
        },
        {
          "output_type": "stream",
          "name": "stderr",
          "text": [
            "Training: 100%|██████████| 9/9 [00:00<00:00, 49.55it/s]\n",
            "Training: 100%|██████████| 9/9 [00:00<00:00, 48.77it/s]\n",
            "Training: 100%|██████████| 9/9 [00:00<00:00, 48.16it/s]\n",
            "Training: 100%|██████████| 9/9 [00:00<00:00, 49.68it/s]\n",
            "Training: 100%|██████████| 9/9 [00:00<00:00, 46.83it/s]\n",
            "Training: 100%|██████████| 9/9 [00:00<00:00, 48.48it/s]\n",
            "Training: 100%|██████████| 9/9 [00:00<00:00, 46.82it/s]\n",
            "Training: 100%|██████████| 9/9 [00:00<00:00, 45.87it/s]\n",
            "Training: 100%|██████████| 9/9 [00:00<00:00, 41.49it/s]\n",
            "Training: 100%|██████████| 9/9 [00:00<00:00, 47.60it/s]\n"
          ]
        },
        {
          "output_type": "stream",
          "name": "stdout",
          "text": [
            "  AAL Epoch: 030, Train Loss: 0.4388\n",
            "Fold 10 Test Accuracy: 0.6071, AUC: 0.6611, Recall (AD): 0.5000\n",
            "\n",
            "=============== Cross-Validation Complete ===============\n",
            "\n",
            "10-Fold Cross-validation Result (AAL with KNN Graph):\n",
            "  - Average Test Accuracy: 0.6745\n",
            "  - Average Test AUC: 0.7560\n",
            "  - Average Test Recall (AD): 0.3518\n",
            "  - Average Test F1-Score: 0.6507\n"
          ]
        },
        {
          "output_type": "display_data",
          "data": {
            "text/plain": [
              "<Figure size 800x600 with 2 Axes>"
            ],
            "image/png": "[encoded data removed]"
          },
          "metadata": {}
        },
        {
          "output_type": "stream",
          "name": "stdout",
          "text": [
            "\n",
            "Classification Report:\n",
            "              precision    recall  f1-score   support\n",
            "\n",
            "          CN     0.6991    0.8587    0.7707       184\n",
            "          AD     0.5873    0.3524    0.4405       105\n",
            "\n",
            "    accuracy                         0.6747       289\n",
            "   macro avg     0.6432    0.6055    0.6056       289\n",
            "weighted avg     0.6585    0.6747    0.6507       289\n",
            "\n"
          ]
        },
        {
          "output_type": "display_data",
          "data": {
            "text/plain": [
              "<Figure size 800x800 with 1 Axes>"
            ],
            "image/png": "[encoded data removed]"
          },
          "metadata": {}
        }
      ],
      "source": [
        "#@title Single Model Cross-Validation AAL (without hyperparmeter tuning)\n",
        "# ==============================================================================\n",
        "# Performing Cross-Validation for the single Model (AAL GCN)\n",
        "# Using KNN-based graph construction\n",
        "# ==============================================================================\n",
        "from sklearn.model_selection import StratifiedKFold\n",
        "import gc\n",
        "import torch\n",
        "import numpy as np\n",
        "import pandas as pd\n",
        "from pathlib import Path\n",
        "from sklearn.metrics import classification_report, confusion_matrix, ConfusionMatrixDisplay, accuracy_score, f1_score, roc_curve, auc, roc_auc_score, recall_score # Import recall_score\n",
        "import numpy as np\n",
        "import matplotlib.pyplot as plt\n",
        "import seaborn as sns\n",
        "\n",
        "print(\"\\n\" + \"=\"*80)\n",
        "print(\" Starting AAL Model Cross-Validation with KNN Graph\")\n",
        "print(\"=\"*80 + \"\\n\")\n",
        "\n",
        "# --- 1. Cross-Validation Setup ---\n",
        "K_FOLDS = 10\n",
        "NUM_EPOCHS = 30\n",
        "K_NEIGHBORS = 10 # Define K for KNN graph construction\n",
        "\n",
        "# Use a single StratifiedKFold instance to split indices for both datasets\n",
        "skf = StratifiedKFold(n_splits=K_FOLDS, shuffle=True, random_state=42)\n",
        "\n",
        "# Lists to store results for each Fold (using specific names for AAL)\n",
        "aal_fold_history = []\n",
        "all_aal_preds = []\n",
        "all_aal_labels = []\n",
        "all_aal_probs = []\n",
        "\n",
        "# --- 2. Load Full Dataset Info for subject list and labels ---\n",
        "\n",
        "# We load the full dataset info here to get the initial subject list and labels for splitting.\n",
        "# The actual dataset instances used within the loop will be re-instantiated\n",
        "# with the fold-specific data using the KNN graph construction.\n",
        "\n",
        "# AAL Full Dataset Info (used only for subject list and labels for splitting)\n",
        "full_dataset_aal_info = fMRIDataset(\n",
        "    root='./data/aal_full_cv_info', # Temporary root folder for AAL full dataset info\n",
        "    cn_fc_dir=CN_FC_AAL_DIR, cn_roi_dir=CN_ROI_AAL_DIR,\n",
        "    ad_fc_dir=AD_FC_AAL_DIR, ad_roi_dir=AD_ROI_AAL_DIR,\n",
        "    k_neighbors=K_NEIGHBORS\n",
        ")\n",
        "\n",
        "\n",
        "# Use labels from this dataset for stratification\n",
        "dataset_labels = [data.y.item() for data in full_dataset_aal_info]\n",
        "\n",
        "# Store the full subject list for easier file path retrieval\n",
        "full_subject_list = full_dataset_aal_info.all_subjects\n",
        "full_cn_subjects = full_dataset_aal_info.cn_subjects\n",
        "full_ad_subjects = full_dataset_aal_info.ad_subjects\n",
        "\n",
        "\n",
        "# --- 3. Start Cross-Validation Loop ---\n",
        "for fold, (train_idx, test_idx) in enumerate(skf.split(np.arange(len(full_subject_list)), dataset_labels)):\n",
        "    print(f\"\\n=============== FOLD {fold+1}/{K_FOLDS} ================\")\n",
        "\n",
        "    # --- 4. Create Fold-specific Datasets and Data Loaders using KNN graph ---\n",
        "\n",
        "    # Re-instantiate AAL dataset/loader for the current fold using KNN graph construction\n",
        "    # The process method will be called when the dataset is accessed, building the KNN graph\n",
        "    dataset_aal_fold_knn = fMRIDataset(\n",
        "        root=f'./data/aal_fold_{fold+1}_knn', # Use a unique root for each fold's processed data\n",
        "        cn_fc_dir=CN_FC_AAL_DIR, cn_roi_dir=CN_ROI_AAL_DIR,\n",
        "        ad_fc_dir=AD_FC_AAL_DIR, ad_roi_dir=AD_ROI_AAL_DIR,\n",
        "        k_neighbors=K_NEIGHBORS # Pass K for KNN\n",
        "    )\n",
        "    # Create Subset and DataLoader for AAL using the dataset with KNN graph\n",
        "    train_dataset_aal_fold_knn = torch.utils.data.Subset(dataset_aal_fold_knn, train_idx)\n",
        "    test_dataset_aal_fold_knn = torch.utils.data.Subset(dataset_aal_fold_knn, test_idx)\n",
        "    train_loader_aal_knn = DataLoader(train_dataset_aal_fold_knn, batch_size=BATCH_SIZE, shuffle=True)\n",
        "    test_loader_aal_knn = DataLoader(test_dataset_aal_fold_knn, batch_size=BATCH_SIZE, shuffle=False)\n",
        "\n",
        "\n",
        "    # --- 5 & 6. Initialize and Train Model within the Fold ---\n",
        "    device = torch.device('cuda' if torch.cuda.is_available() else 'cpu')\n",
        "\n",
        "    # Initialize and Train AAL Model using the KNN graph data loader\n",
        "    print(f\"\\nFold {fold+1}: Training AAL Model with KNN Graph...\")\n",
        "    model_aal_fold = GCN(\n",
        "        # Use num_node_features and num_classes from the fold-specific dataset\n",
        "        num_node_features=dataset_aal_fold_knn.num_node_features,\n",
        "        num_classes=dataset_aal_fold_knn.num_classes\n",
        "    ).to(device)\n",
        "    optimizer_aal = torch.optim.Adam(model_aal_fold.parameters(), lr=LEARNING_RATE)\n",
        "    criterion_aal = torch.nn.CrossEntropyLoss()\n",
        "\n",
        "    for epoch in range(1, NUM_EPOCHS + 1):\n",
        "        loss = train_model(model_aal_fold, train_loader_aal_knn, criterion_aal, optimizer_aal, device)\n",
        "        if epoch % 10 == 0: # Reduced print frequency for cleaner output\n",
        "             print(f'  AAL Epoch: {epoch:03d}, Train Loss: {loss:.4f}')\n",
        "\n",
        "\n",
        "    # --- 7. Obtain Prediction Probabilities and Labels on Test Data within the Fold ---\n",
        "    # Use the test loader with KNN graph data\n",
        "    test_accuracy, test_f1, test_auc, test_recall, preds_aal_test, labels_aal_test, probs_aal_test = test_model(model_aal_fold, test_loader_aal_knn, device)\n",
        "\n",
        "\n",
        "    current_fold_true_labels = np.array(labels_aal_test)\n",
        "\n",
        "    # --- Calculate AUC for the current fold's test set ---\n",
        "    fold_auc = 0 # Default AUC if calculation fails\n",
        "    # Ensure probs_aal_test is in the correct format and labels are binary\n",
        "    if probs_aal_test is not None and probs_aal_test.shape[1] == 2 and len(current_fold_true_labels) == len(probs_aal_test):\n",
        "        try:\n",
        "            # Get probability of the positive class (AD, label 1)\n",
        "            probs_positive_class_fold = probs_aal_test[:, 1]\n",
        "            fold_auc = roc_auc_score(current_fold_true_labels, probs_positive_class_fold)\n",
        "        except Exception as e:\n",
        "            print(f\"Warning: Could not calculate AUC for fold {fold+1}: {e}\")\n",
        "            fold_auc = 0 # Set to 0 or NaN if calculation fails\n",
        "\n",
        "    # --- Calculate Recall for the positive class (AD, label 1) ---\n",
        "    fold_recall = 0 # Default recall if calculation fails or no positive samples\n",
        "    if len(current_fold_true_labels) > 0 and 1 in current_fold_true_labels:\n",
        "        try:\n",
        "            fold_recall = recall_score(current_fold_true_labels, preds_aal_test, pos_label=1)\n",
        "        except Exception as e:\n",
        "            print(f\"Warning: Could not calculate Recall for fold {fold+1}: {e}\")\n",
        "            fold_recall = 0\n",
        "\n",
        "\n",
        "    # --- 9. Evaluate Fold Performance and Collect Results (using specific names for AAL) ---\n",
        "    fold_accuracy = accuracy_score(current_fold_true_labels, preds_aal_test)\n",
        "    # Store accuracy, AUC, and Recall in fold_history\n",
        "    aal_fold_history.append({'acc': fold_accuracy, 'auc': fold_auc, 'recall': fold_recall}) # Added recall\n",
        "    all_aal_preds.extend(preds_aal_test)\n",
        "    all_aal_labels.extend(current_fold_true_labels)\n",
        "    all_aal_probs.extend(probs_aal_test) # Append probabilities for later overall AUC/ROC if needed\n",
        "\n",
        "    print(f\"Fold {fold+1} Test Accuracy: {fold_accuracy:.4f}, AUC: {fold_auc:.4f}, Recall (AD): {fold_recall:.4f}\") # Added recall printout\n",
        "\n",
        "    # --- 10. Memory Cleanup ---\n",
        "    del model_aal_fold, optimizer_aal, criterion_aal\n",
        "    # Clean up data loaders and datasets created for this fold\n",
        "    del train_dataset_aal_fold_knn, test_dataset_aal_fold_knn, train_loader_aal_knn, test_loader_aal_knn\n",
        "    del dataset_aal_fold_knn # Delete the dataset instance\n",
        "    gc.collect()\n",
        "    torch.cuda.empty_cache()\n",
        "\n",
        "# --- 11. Cross-Validation Complete ---\n",
        "print(\"\\n=============== Cross-Validation Complete ===============\")\n",
        "\n",
        "# --- Final Result Analysis (using specific names for AAL) ---\n",
        "if aal_fold_history:\n",
        "    avg_acc = np.mean([f['acc'] for f in aal_fold_history])\n",
        "    avg_auc = np.mean([f['auc'] for f in aal_fold_history]) # Calculate average AUC\n",
        "    avg_recall = np.mean([f['recall'] for f in aal_fold_history]) # Calculate average Recall\n",
        "    f1 = f1_score(all_aal_labels, all_aal_preds, average='weighted')\n",
        "\n",
        "    print(f\"\\n{K_FOLDS}-Fold Cross-validation Result (AAL with KNN Graph):\")\n",
        "    print(f\"  - Average Test Accuracy: {avg_acc:.4f}\")\n",
        "    print(f\"  - Average Test AUC: {avg_auc:.4f}\") # Print average AUC\n",
        "    print(f\"  - Average Test Recall (AD): {avg_recall:.4f}\") # Print average Recall\n",
        "    print(f\"  - Average Test F1-Score: {f1:.4f}\")\n",
        "\n",
        "    # Overall Confusion Matrix (using specific names for AAL)\n",
        "    cm = confusion_matrix(all_aal_labels, all_aal_preds)\n",
        "    plt.figure(figsize=(8, 6))\n",
        "    sns.heatmap(cm, annot=True, fmt='d', cmap='Blues', xticklabels=['CN', 'AD'], yticklabels=['CN', 'AD'])\n",
        "    plt.title(f'{K_FOLDS}-Fold Cross-Validation Confusion Matrix (AAL single model with KNN Graph)')\n",
        "    plt.xlabel('Predicted Label')\n",
        "    plt.ylabel('True Label')\n",
        "    plt.show()\n",
        "else:\n",
        "    print(\"Couldn't execute cross-validation.\")\n",
        "\n",
        "\n",
        "# 1. Classification Report 출력 (using specific names for AAL)\n",
        "print(\"\\nClassification Report:\")\n",
        "print(classification_report(all_aal_labels, all_aal_preds, target_names=['CN', 'AD'], digits=4))\n",
        "\n",
        "# =========================================================\n",
        "# --- ROC Curve and AUC Visualization (using specific names for AAL) ---\n",
        "# =========================================================\n",
        "# Ensure all_aal_probs is a numpy array before slicing\n",
        "all_aal_probs_np = np.array(all_aal_probs)\n",
        "# Check shape of all_aal_probs_np and select the column corresponding to the positive class (AD, which is label 1)\n",
        "if all_aal_probs_np.ndim > 1 and all_aal_probs_np.shape[1] > 1:\n",
        "    # Use the collected probabilities for the overall ROC curve\n",
        "    probs_positive_class = all_aal_probs_np[:, 1]\n",
        "else:\n",
        "    print(\"Warning: Unexpected shape for all_aal_probs. Cannot plot ROC curve.\")\n",
        "    probs_positive_class = None\n",
        "\n",
        "if probs_positive_class is not None:\n",
        "    # Ensure labels and probabilities have the same length\n",
        "    if len(all_aal_labels) == len(probs_positive_class):\n",
        "        fpr, tpr, thresholds = roc_curve(all_aal_labels, probs_positive_class)\n",
        "        roc_auc = auc(fpr, tpr) # This is the AUC for the overall collected predictions/probs\n",
        "\n",
        "        plt.figure(figsize=(8, 8))\n",
        "        plt.plot(fpr, tpr, color='darkorange', lw=2, label=f'ROC curve (overall area = {roc_auc:.4f})') # Label as overall AUC\n",
        "        plt.plot([0, 1], [0, 1], color='navy', lw=2, linestyle='--')\n",
        "        plt.xlim([0.0, 1.0])\n",
        "        plt.ylim([0.0, 1.05])\n",
        "        plt.xlabel('False Positive Rate')\n",
        "        plt.ylabel('True Positive Rate')\n",
        "        plt.title('Receiver Operating Characteristic (ROC) Curve for AAL Model with KNN Graph')\n",
        "        plt.legend(loc=\"lower right\")\n",
        "        plt.show()\n",
        "    else:\n",
        "        print(f\"Error: Length of test labels ({len(all_aal_labels)}) does not match length of probabilities ({len(probs_positive_class)}). Cannot plot ROC curve.\")"
      ]
    },
    {
      "cell_type": "code",
      "source": [
        "#@title Single Model Cross-Validation Schaefer (without hyperparmeter tuning)\n",
        "# ==============================================================================\n",
        "# Performing Cross-Validation for the single Model (Schaefer GCN)\n",
        "# Using KNN-based graph construction\n",
        "# ==============================================================================\n",
        "from sklearn.model_selection import StratifiedKFold\n",
        "import gc\n",
        "import torch\n",
        "import numpy as np # Added numpy import for np.array\n",
        "import pandas as pd # Added pandas import\n",
        "from pathlib import Path # Added Path import\n",
        "from sklearn.metrics import classification_report, confusion_matrix, ConfusionMatrixDisplay, accuracy_score, f1_score, roc_curve, auc, roc_auc_score, recall_score # Import recall_score\n",
        "import numpy as np\n",
        "import matplotlib.pyplot as plt\n",
        "import seaborn as sns\n",
        "\n",
        "print(\"\\n\" + \"=\"*80)\n",
        "print(\" Starting Schaefer Model Cross-Validation with KNN Graph\")\n",
        "print(\"=\"*80 + \"\\n\")\n",
        "\n",
        "# --- 1. Cross-Validation Setup ---\n",
        "K_FOLDS = 10\n",
        "NUM_EPOCHS = 30\n",
        "K_NEIGHBORS = 10 # Define K for KNN graph construction\n",
        "\n",
        "# Use a single StratifiedKFold instance to split indices for both datasets\n",
        "skf = StratifiedKFold(n_splits=K_FOLDS, shuffle=True, random_state=42)\n",
        "\n",
        "# Lists to store results for each Fold (using specific names for Schaefer)\n",
        "schaefer_fold_history = []\n",
        "all_schaefer_preds = []\n",
        "all_schaefer_labels = []\n",
        "all_schaefer_probs = []\n",
        "\n",
        "# --- 2. Load Full Dataset Info for subject list and labels ---\n",
        "\n",
        "# We load the full dataset info here to get the initial subject list and labels for splitting.\n",
        "# The actual dataset instances used within the loop will be re-instantiated\n",
        "# with the fold-specific data using the KNN graph construction.\n",
        "\n",
        "# Schaefer Full Dataset Info (used only for subject list and labels for splitting)\n",
        "# We don't need significant_edges here anymore as it's not used in the new fMRIDataset __init__\n",
        "full_dataset_schaefer_info = fMRIDataset(\n",
        "    root='./data/schaefer_full_cv_info', # Temporary root folder for Schaefer full dataset info\n",
        "    cn_fc_dir=CN_FC_SCHAEFER_DIR, cn_roi_dir=CN_ROI_SCHAEFER_DIR,\n",
        "    ad_fc_dir=AD_FC_SCHAEFER_DIR, ad_roi_dir=AD_ROI_SCHAEFER_DIR,\n",
        "    k_neighbors=K_NEIGHBORS # Pass k_neighbors, though not used for just getting info\n",
        ")\n",
        "\n",
        "\n",
        "# Use labels from this dataset for stratification\n",
        "dataset_labels = [data.y.item() for data in full_dataset_schaefer_info]\n",
        "\n",
        "# Store the full subject list for easier file path retrieval\n",
        "full_subject_list = full_dataset_schaefer_info.all_subjects\n",
        "full_cn_subjects = full_dataset_schaefer_info.cn_subjects\n",
        "full_ad_subjects = full_dataset_schaefer_info.ad_subjects\n",
        "\n",
        "\n",
        "# --- 3. Start Cross-Validation Loop ---\n",
        "for fold, (train_idx, test_idx) in enumerate(skf.split(np.arange(len(full_subject_list)), dataset_labels)):\n",
        "    print(f\"\\n=============== FOLD {fold+1}/{K_FOLDS} ================\")\n",
        "\n",
        "    # --- No T-test based feature selection needed here ---\n",
        "    # The KNN graph construction is done within the fMRIDataset process method\n",
        "    # for each subject, based on their FC matrix rows.\n",
        "\n",
        "    # --- 4. Create Fold-specific Datasets and Data Loaders using KNN graph ---\n",
        "\n",
        "    # Re-instantiate SCHAEFER dataset/loader for the current fold using KNN graph construction\n",
        "    # The process method will be called when the dataset is accessed, building the KNN graph\n",
        "    dataset_schaefer_fold_knn = fMRIDataset(\n",
        "        root=f'./data/schaefer_fold_{fold+1}_knn', # Use a unique root for each fold's processed data\n",
        "        cn_fc_dir=CN_FC_SCHAEFER_DIR, cn_roi_dir=CN_ROI_SCHAEFER_DIR,\n",
        "        ad_fc_dir=AD_FC_SCHAEFER_DIR, ad_roi_dir=AD_ROI_SCHAEFER_DIR,\n",
        "        k_neighbors=K_NEIGHBORS # Pass K for KNN\n",
        "    )\n",
        "    # Create Subset and DataLoader for Schaefer using the dataset with KNN graph\n",
        "    train_dataset_schaefer_fold_knn = torch.utils.data.Subset(dataset_schaefer_fold_knn, train_idx)\n",
        "    test_dataset_schaefer_fold_knn = torch.utils.data.Subset(dataset_schaefer_fold_knn, test_idx)\n",
        "    train_loader_schaefer_knn = DataLoader(train_dataset_schaefer_fold_knn, batch_size=BATCH_SIZE, shuffle=True)\n",
        "    test_loader_schaefer_knn = DataLoader(test_dataset_schaefer_fold_knn, batch_size=BATCH_SIZE, shuffle=False)\n",
        "\n",
        "\n",
        "    # --- 5 & 6. Initialize and Train Model within the Fold ---\n",
        "    device = torch.device('cuda' if torch.cuda.is_available() else 'cpu')\n",
        "\n",
        "    # Initialize and Train Schaefer Model using the KNN graph data loader\n",
        "    print(f\"\\nFold {fold+1}: Training Schaefer Model with KNN Graph...\")\n",
        "    model_schaefer_fold = GCN(\n",
        "        # Use num_node_features and num_classes from the fold-specific dataset\n",
        "        num_node_features=dataset_schaefer_fold_knn.num_node_features,\n",
        "        num_classes=dataset_schaefer_fold_knn.num_classes\n",
        "    ).to(device)\n",
        "    optimizer_schaefer = torch.optim.Adam(model_schaefer_fold.parameters(), lr=LEARNING_RATE)\n",
        "    criterion_schaefer = torch.nn.CrossEntropyLoss()\n",
        "\n",
        "    for epoch in range(1, NUM_EPOCHS + 1):\n",
        "        loss = train_model(model_schaefer_fold, train_loader_schaefer_knn, criterion_schaefer, optimizer_schaefer, device)\n",
        "        if epoch % 10 == 0: # Reduced print frequency for cleaner output\n",
        "             print(f'  Schaefer Epoch: {epoch:03d}, Train Loss: {loss:.4f}')\n",
        "\n",
        "\n",
        "    # --- 7. Obtain Prediction Probabilities and Labels on Test Data within the Fold ---\n",
        "    # Use the test loader with KNN graph data\n",
        "    test_accuracy, test_f1, test_auc, test_recall, preds_schaefer_test, labels_schaefer_test, probs_schaefer_test = test_model(model_schaefer_fold, test_loader_schaefer_knn, device)\n",
        "\n",
        "\n",
        "    current_fold_true_labels = np.array(labels_schaefer_test)\n",
        "\n",
        "    # --- Calculate AUC for the current fold's test set ---\n",
        "    fold_auc = 0 # Default AUC if calculation fails\n",
        "    # Ensure probs_schaefer_test is in the correct format and labels are binary\n",
        "    if probs_schaefer_test is not None and probs_schaefer_test.shape[1] == 2 and len(current_fold_true_labels) == len(probs_schaefer_test):\n",
        "        try:\n",
        "            # Get probability of the positive class (AD, label 1)\n",
        "            probs_positive_class_fold = probs_schaefer_test[:, 1]\n",
        "            fold_auc = roc_auc_score(current_fold_true_labels, probs_positive_class_fold)\n",
        "        except Exception as e:\n",
        "            print(f\"Warning: Could not calculate AUC for fold {fold+1}: {e}\")\n",
        "            fold_auc = 0 # Set to 0 or NaN if calculation fails\n",
        "\n",
        "    # --- Calculate Recall for the positive class (AD, label 1) ---\n",
        "    fold_recall = 0 # Default recall if calculation fails or no positive samples\n",
        "    if len(current_fold_true_labels) > 0 and 1 in current_fold_true_labels:\n",
        "        try:\n",
        "            fold_recall = recall_score(current_fold_true_labels, preds_schaefer_test, pos_label=1)\n",
        "        except Exception as e:\n",
        "            print(f\"Warning: Could not calculate Recall for fold {fold+1}: {e}\")\n",
        "            fold_recall = 0\n",
        "\n",
        "\n",
        "    # --- 9. Evaluate Fold Performance and Collect Results (using specific names for Schaefer) ---\n",
        "    fold_accuracy = accuracy_score(current_fold_true_labels, preds_schaefer_test)\n",
        "    # Store accuracy, AUC, and Recall in fold_history\n",
        "    schaefer_fold_history.append({'acc': fold_accuracy, 'auc': fold_auc, 'recall': fold_recall}) # Added recall\n",
        "    all_schaefer_preds.extend(preds_schaefer_test)\n",
        "    all_schaefer_labels.extend(current_fold_true_labels)\n",
        "    all_schaefer_probs.extend(probs_schaefer_test)\n",
        "\n",
        "    print(f\"Fold {fold+1} Test Accuracy: {fold_accuracy:.4f}, AUC: {fold_auc:.4f}, Recall (AD): {fold_recall:.4f}\") # Added recall printout\n",
        "\n",
        "    # --- 10. Memory Cleanup ---\n",
        "    del model_schaefer_fold, optimizer_schaefer, criterion_schaefer\n",
        "    # Clean up data loaders and datasets created for this fold\n",
        "    del train_dataset_schaefer_fold_knn, test_dataset_schaefer_fold_knn, train_loader_schaefer_knn, test_loader_schaefer_knn\n",
        "    del dataset_schaefer_fold_knn # Delete the dataset instance\n",
        "    gc.collect()\n",
        "    torch.cuda.empty_cache()\n",
        "\n",
        "# --- 11. Cross-Validation Complete ---\n",
        "print(\"\\n=============== Cross-Validation Complete ===============\")\n",
        "\n",
        "# --- Final Result Analysis (using specific names for Schaefer) ---\n",
        "if schaefer_fold_history:\n",
        "    avg_acc = np.mean([f['acc'] for f in schaefer_fold_history])\n",
        "    avg_auc = np.mean([f['auc'] for f in schaefer_fold_history]) # Calculate average AUC\n",
        "    avg_recall = np.mean([f['recall'] for f in schaefer_fold_history]) # Calculate average Recall\n",
        "    f1 = f1_score(all_schaefer_labels, all_schaefer_preds, average='weighted')\n",
        "\n",
        "    print(f\"\\n{K_FOLDS}-Fold Cross-validation Result (Schaefer with KNN Graph):\")\n",
        "    print(f\"  - Average Test Accuracy: {avg_acc:.4f}\")\n",
        "    print(f\"  - Average Test AUC: {avg_auc:.4f}\") # Print average AUC\n",
        "    print(f\"  - Average Test Recall (AD): {avg_recall:.4f}\") # Print average Recall\n",
        "    print(f\"  - Average Test F1-Score: {f1:.4f}\")\n",
        "\n",
        "    # Overall Confusion Matrix (using specific names for Schaefer)\n",
        "    cm = confusion_matrix(all_schaefer_labels, all_schaefer_preds)\n",
        "    plt.figure(figsize=(8, 6))\n",
        "    sns.heatmap(cm, annot=True, fmt='d', cmap='Blues', xticklabels=['CN', 'AD'], yticklabels=['CN', 'AD'])\n",
        "    plt.title(f'{K_FOLDS}-Fold Cross-Validation Confusion Matrix (Schaefer single model with KNN Graph)')\n",
        "    plt.xlabel('Predicted Label')\n",
        "    plt.ylabel('True Label')\n",
        "    plt.show()\n",
        "else:\n",
        "    print(\"Couldn't execute cross-validation.\")\n",
        "\n",
        "\n",
        "# 1. Classification Report 출력 (using specific names for Schaefer)\n",
        "print(\"\\nClassification Report:\")\n",
        "print(classification_report(all_schaefer_labels, all_schaefer_preds, target_names=['CN', 'AD'], digits=4))\n",
        "\n",
        "# =========================================================\n",
        "# --- ROC Curve and AUC Visualization (using specific names for Schaefer) ---\n",
        "# =========================================================\n",
        "# Ensure all_schaefer_probs is a numpy array before slicing\n",
        "all_schaefer_probs_np = np.array(all_schaefer_probs)\n",
        "# Check shape of all_schaefer_probs_np and select the column corresponding to the positive class (AD, which is label 1)\n",
        "# Assuming the second column (index 1) corresponds to the positive class probability after log_softmax and exp\n",
        "if all_schaefer_probs_np.ndim > 1 and all_schaefer_probs_np.shape[1] > 1:\n",
        "    probs_positive_class = all_schaefer_probs_np[:, 1]\n",
        "else:\n",
        "    # Fallback if somehow probs are not in the expected shape (shouldn't happen with log_softmax and exp)\n",
        "    print(\"Warning: Unexpected shape for all_schaefer_probs. Cannot plot ROC curve.\")\n",
        "    probs_positive_class = None\n",
        "\n",
        "if probs_positive_class is not None:\n",
        "    # Ensure labels and probabilities have the same length\n",
        "    if len(all_schaefer_labels) == len(probs_positive_class):\n",
        "        fpr, tpr, thresholds = roc_curve(all_schaefer_labels, probs_positive_class)\n",
        "        roc_auc = auc(fpr, tpr)\n",
        "\n",
        "        plt.figure(figsize=(8, 8))\n",
        "        plt.plot(fpr, tpr, color='darkorange', lw=2, label=f'ROC curve (area = {roc_auc:.4f})')\n",
        "        plt.plot([0, 1], [0, 1], color='navy', lw=2, linestyle='--')\n",
        "        plt.xlim([0.0, 1.0])\n",
        "        plt.ylim([0.0, 1.05])\n",
        "        plt.xlabel('False Positive Rate')\n",
        "        plt.ylabel('True Positive Rate')\n",
        "        plt.title('Receiver Operating Characteristic (ROC) Curve for Schaefer Model with KNN Graph')\n",
        "        plt.legend(loc=\"lower right\")\n",
        "        plt.show()\n",
        "    else:\n",
        "        print(f\"Error: Length of test labels ({len(all_schaefer_labels)}) does not match length of probabilities ({len(probs_positive_class)}). Cannot plot ROC curve.\")"
      ],
      "metadata": {
        "colab": {
          "base_uri": "https://localhost:8080/",
          "height": 1000
        },
        "id": "X5jV4037Xc4L",
        "outputId": "e6408d0a-37db-4a22-916c-e9ee4ae6b42b"
      },
      "execution_count": null,
      "outputs": [
        {
          "output_type": "stream",
          "name": "stdout",
          "text": [
            "\n",
            "================================================================================\n",
            " Starting Schaefer Model Cross-Validation with KNN Graph\n",
            "================================================================================\n",
            "\n",
            "Initialized dataset with 289 valid subjects.\n",
            "\n",
            "=============== FOLD 1/10 ================\n",
            "Initialized dataset with 289 valid subjects.\n",
            "\n",
            "Fold 1: Training Schaefer Model with KNN Graph...\n"
          ]
        },
        {
          "output_type": "stream",
          "name": "stderr",
          "text": [
            "Training: 100%|██████████| 9/9 [00:00<00:00, 23.67it/s]\n",
            "Training: 100%|██████████| 9/9 [00:00<00:00, 22.13it/s]\n",
            "Training: 100%|██████████| 9/9 [00:00<00:00, 22.03it/s]\n",
            "Training: 100%|██████████| 9/9 [00:00<00:00, 24.71it/s]\n",
            "Training: 100%|██████████| 9/9 [00:00<00:00, 21.85it/s]\n",
            "Training: 100%|██████████| 9/9 [00:00<00:00, 19.26it/s]\n",
            "Training: 100%|██████████| 9/9 [00:00<00:00, 18.36it/s]\n",
            "Training: 100%|██████████| 9/9 [00:00<00:00, 18.80it/s]\n",
            "Training: 100%|██████████| 9/9 [00:00<00:00, 20.06it/s]\n",
            "Training: 100%|██████████| 9/9 [00:00<00:00, 18.84it/s]\n"
          ]
        },
        {
          "output_type": "stream",
          "name": "stdout",
          "text": [
            "  Schaefer Epoch: 010, Train Loss: 0.6083\n"
          ]
        },
        {
          "output_type": "stream",
          "name": "stderr",
          "text": [
            "Training: 100%|██████████| 9/9 [00:00<00:00, 18.21it/s]\n",
            "Training: 100%|██████████| 9/9 [00:00<00:00, 21.74it/s]\n",
            "Training: 100%|██████████| 9/9 [00:00<00:00, 25.33it/s]\n",
            "Training: 100%|██████████| 9/9 [00:00<00:00, 24.01it/s]\n",
            "Training: 100%|██████████| 9/9 [00:00<00:00, 24.66it/s]\n",
            "Training: 100%|██████████| 9/9 [00:00<00:00, 23.37it/s]\n",
            "Training: 100%|██████████| 9/9 [00:00<00:00, 24.16it/s]\n",
            "Training: 100%|██████████| 9/9 [00:00<00:00, 21.42it/s]\n",
            "Training: 100%|██████████| 9/9 [00:00<00:00, 24.50it/s]\n",
            "Training: 100%|██████████| 9/9 [00:00<00:00, 25.47it/s]\n"
          ]
        },
        {
          "output_type": "stream",
          "name": "stdout",
          "text": [
            "  Schaefer Epoch: 020, Train Loss: 0.3461\n"
          ]
        },
        {
          "output_type": "stream",
          "name": "stderr",
          "text": [
            "Training: 100%|██████████| 9/9 [00:00<00:00, 24.61it/s]\n",
            "Training: 100%|██████████| 9/9 [00:00<00:00, 25.50it/s]\n",
            "Training: 100%|██████████| 9/9 [00:00<00:00, 25.11it/s]\n",
            "Training: 100%|██████████| 9/9 [00:00<00:00, 24.24it/s]\n",
            "Training: 100%|██████████| 9/9 [00:00<00:00, 25.19it/s]\n",
            "Training: 100%|██████████| 9/9 [00:00<00:00, 23.71it/s]\n",
            "Training: 100%|██████████| 9/9 [00:00<00:00, 25.46it/s]\n",
            "Training: 100%|██████████| 9/9 [00:00<00:00, 22.93it/s]\n",
            "Training: 100%|██████████| 9/9 [00:00<00:00, 23.53it/s]\n",
            "Training: 100%|██████████| 9/9 [00:00<00:00, 24.26it/s]\n"
          ]
        },
        {
          "output_type": "stream",
          "name": "stdout",
          "text": [
            "  Schaefer Epoch: 030, Train Loss: 0.1528\n",
            "Fold 1 Test Accuracy: 0.8966, AUC: 0.9316, Recall (AD): 0.8000\n",
            "\n",
            "=============== FOLD 2/10 ================\n",
            "Initialized dataset with 289 valid subjects.\n",
            "\n",
            "Fold 2: Training Schaefer Model with KNN Graph...\n"
          ]
        },
        {
          "output_type": "stream",
          "name": "stderr",
          "text": [
            "Training: 100%|██████████| 9/9 [00:00<00:00, 23.37it/s]\n",
            "Training: 100%|██████████| 9/9 [00:00<00:00, 24.87it/s]\n",
            "Training: 100%|██████████| 9/9 [00:00<00:00, 24.67it/s]\n",
            "Training: 100%|██████████| 9/9 [00:00<00:00, 23.93it/s]\n",
            "Training: 100%|██████████| 9/9 [00:00<00:00, 25.19it/s]\n",
            "Training: 100%|██████████| 9/9 [00:00<00:00, 24.37it/s]\n",
            "Training: 100%|██████████| 9/9 [00:00<00:00, 25.74it/s]\n",
            "Training: 100%|██████████| 9/9 [00:00<00:00, 21.50it/s]\n",
            "Training: 100%|██████████| 9/9 [00:00<00:00, 19.70it/s]\n",
            "Training: 100%|██████████| 9/9 [00:00<00:00, 19.58it/s]\n"
          ]
        },
        {
          "output_type": "stream",
          "name": "stdout",
          "text": [
            "  Schaefer Epoch: 010, Train Loss: 0.5988\n"
          ]
        },
        {
          "output_type": "stream",
          "name": "stderr",
          "text": [
            "Training: 100%|██████████| 9/9 [00:00<00:00, 18.73it/s]\n",
            "Training: 100%|██████████| 9/9 [00:00<00:00, 20.57it/s]\n",
            "Training: 100%|██████████| 9/9 [00:00<00:00, 19.96it/s]\n",
            "Training: 100%|██████████| 9/9 [00:00<00:00, 18.27it/s]\n",
            "Training: 100%|██████████| 9/9 [00:00<00:00, 24.42it/s]\n",
            "Training: 100%|██████████| 9/9 [00:00<00:00, 24.95it/s]\n",
            "Training: 100%|██████████| 9/9 [00:00<00:00, 25.41it/s]\n",
            "Training: 100%|██████████| 9/9 [00:00<00:00, 25.57it/s]\n",
            "Training: 100%|██████████| 9/9 [00:00<00:00, 24.99it/s]\n",
            "Training: 100%|██████████| 9/9 [00:00<00:00, 25.86it/s]\n"
          ]
        },
        {
          "output_type": "stream",
          "name": "stdout",
          "text": [
            "  Schaefer Epoch: 020, Train Loss: 0.3171\n"
          ]
        },
        {
          "output_type": "stream",
          "name": "stderr",
          "text": [
            "Training: 100%|██████████| 9/9 [00:00<00:00, 25.68it/s]\n",
            "Training: 100%|██████████| 9/9 [00:00<00:00, 24.76it/s]\n",
            "Training: 100%|██████████| 9/9 [00:00<00:00, 25.19it/s]\n",
            "Training: 100%|██████████| 9/9 [00:00<00:00, 25.72it/s]\n",
            "Training: 100%|██████████| 9/9 [00:00<00:00, 24.24it/s]\n",
            "Training: 100%|██████████| 9/9 [00:00<00:00, 25.03it/s]\n",
            "Training: 100%|██████████| 9/9 [00:00<00:00, 25.84it/s]\n",
            "Training: 100%|██████████| 9/9 [00:00<00:00, 25.41it/s]\n",
            "Training: 100%|██████████| 9/9 [00:00<00:00, 24.94it/s]\n",
            "Training: 100%|██████████| 9/9 [00:00<00:00, 25.20it/s]\n"
          ]
        },
        {
          "output_type": "stream",
          "name": "stdout",
          "text": [
            "  Schaefer Epoch: 030, Train Loss: 0.1336\n",
            "Fold 2 Test Accuracy: 0.7931, AUC: 0.9421, Recall (AD): 0.6000\n",
            "\n",
            "=============== FOLD 3/10 ================\n",
            "Initialized dataset with 289 valid subjects.\n",
            "\n",
            "Fold 3: Training Schaefer Model with KNN Graph...\n"
          ]
        },
        {
          "output_type": "stream",
          "name": "stderr",
          "text": [
            "Training: 100%|██████████| 9/9 [00:00<00:00, 24.92it/s]\n",
            "Training: 100%|██████████| 9/9 [00:00<00:00, 24.50it/s]\n",
            "Training: 100%|██████████| 9/9 [00:00<00:00, 25.58it/s]\n",
            "Training: 100%|██████████| 9/9 [00:00<00:00, 24.72it/s]\n",
            "Training: 100%|██████████| 9/9 [00:00<00:00, 24.34it/s]\n",
            "Training: 100%|██████████| 9/9 [00:00<00:00, 24.79it/s]\n",
            "Training: 100%|██████████| 9/9 [00:00<00:00, 25.34it/s]\n",
            "Training: 100%|██████████| 9/9 [00:00<00:00, 23.56it/s]\n",
            "Training: 100%|██████████| 9/9 [00:00<00:00, 24.58it/s]\n",
            "Training: 100%|██████████| 9/9 [00:00<00:00, 25.48it/s]\n"
          ]
        },
        {
          "output_type": "stream",
          "name": "stdout",
          "text": [
            "  Schaefer Epoch: 010, Train Loss: 0.5893\n"
          ]
        },
        {
          "output_type": "stream",
          "name": "stderr",
          "text": [
            "Training: 100%|██████████| 9/9 [00:00<00:00, 22.33it/s]\n",
            "Training: 100%|██████████| 9/9 [00:00<00:00, 19.60it/s]\n",
            "Training: 100%|██████████| 9/9 [00:00<00:00, 19.35it/s]\n",
            "Training: 100%|██████████| 9/9 [00:00<00:00, 18.62it/s]\n",
            "Training: 100%|██████████| 9/9 [00:00<00:00, 20.28it/s]\n",
            "Training: 100%|██████████| 9/9 [00:00<00:00, 19.81it/s]\n",
            "Training: 100%|██████████| 9/9 [00:00<00:00, 18.32it/s]\n",
            "Training: 100%|██████████| 9/9 [00:00<00:00, 19.45it/s]\n",
            "Training: 100%|██████████| 9/9 [00:00<00:00, 24.37it/s]\n",
            "Training: 100%|██████████| 9/9 [00:00<00:00, 24.79it/s]\n"
          ]
        },
        {
          "output_type": "stream",
          "name": "stdout",
          "text": [
            "  Schaefer Epoch: 020, Train Loss: 0.3289\n"
          ]
        },
        {
          "output_type": "stream",
          "name": "stderr",
          "text": [
            "Training: 100%|██████████| 9/9 [00:00<00:00, 24.50it/s]\n",
            "Training: 100%|██████████| 9/9 [00:00<00:00, 25.39it/s]\n",
            "Training: 100%|██████████| 9/9 [00:00<00:00, 24.60it/s]\n",
            "Training: 100%|██████████| 9/9 [00:00<00:00, 24.74it/s]\n",
            "Training: 100%|██████████| 9/9 [00:00<00:00, 25.02it/s]\n",
            "Training: 100%|██████████| 9/9 [00:00<00:00, 24.06it/s]\n",
            "Training: 100%|██████████| 9/9 [00:00<00:00, 24.69it/s]\n",
            "Training: 100%|██████████| 9/9 [00:00<00:00, 24.93it/s]\n",
            "Training: 100%|██████████| 9/9 [00:00<00:00, 24.21it/s]\n",
            "Training: 100%|██████████| 9/9 [00:00<00:00, 24.86it/s]\n"
          ]
        },
        {
          "output_type": "stream",
          "name": "stdout",
          "text": [
            "  Schaefer Epoch: 030, Train Loss: 0.1396\n",
            "Fold 3 Test Accuracy: 0.8966, AUC: 0.9211, Recall (AD): 0.8000\n",
            "\n",
            "=============== FOLD 4/10 ================\n",
            "Initialized dataset with 289 valid subjects.\n",
            "\n",
            "Fold 4: Training Schaefer Model with KNN Graph...\n"
          ]
        },
        {
          "output_type": "stream",
          "name": "stderr",
          "text": [
            "Training: 100%|██████████| 9/9 [00:00<00:00, 23.47it/s]\n",
            "Training: 100%|██████████| 9/9 [00:00<00:00, 22.88it/s]\n",
            "Training: 100%|██████████| 9/9 [00:00<00:00, 24.60it/s]\n",
            "Training: 100%|██████████| 9/9 [00:00<00:00, 24.83it/s]\n",
            "Training: 100%|██████████| 9/9 [00:00<00:00, 24.59it/s]\n",
            "Training: 100%|██████████| 9/9 [00:00<00:00, 22.98it/s]\n",
            "Training: 100%|██████████| 9/9 [00:00<00:00, 24.91it/s]\n",
            "Training: 100%|██████████| 9/9 [00:00<00:00, 25.20it/s]\n",
            "Training: 100%|██████████| 9/9 [00:00<00:00, 23.64it/s]\n",
            "Training: 100%|██████████| 9/9 [00:00<00:00, 24.81it/s]\n"
          ]
        },
        {
          "output_type": "stream",
          "name": "stdout",
          "text": [
            "  Schaefer Epoch: 010, Train Loss: 0.5671\n"
          ]
        },
        {
          "output_type": "stream",
          "name": "stderr",
          "text": [
            "Training: 100%|██████████| 9/9 [00:00<00:00, 24.71it/s]\n",
            "Training: 100%|██████████| 9/9 [00:00<00:00, 24.18it/s]\n",
            "Training: 100%|██████████| 9/9 [00:00<00:00, 25.27it/s]\n",
            "Training: 100%|██████████| 9/9 [00:00<00:00, 21.81it/s]\n",
            "Training: 100%|██████████| 9/9 [00:00<00:00, 16.50it/s]\n",
            "Training: 100%|██████████| 9/9 [00:01<00:00,  6.48it/s]\n",
            "Training: 100%|██████████| 9/9 [00:00<00:00, 19.78it/s]\n",
            "Training: 100%|██████████| 9/9 [00:00<00:00, 19.02it/s]\n",
            "Training: 100%|██████████| 9/9 [00:00<00:00, 19.90it/s]\n",
            "Training: 100%|██████████| 9/9 [00:00<00:00, 25.26it/s]\n"
          ]
        },
        {
          "output_type": "stream",
          "name": "stdout",
          "text": [
            "  Schaefer Epoch: 020, Train Loss: 0.3038\n"
          ]
        },
        {
          "output_type": "stream",
          "name": "stderr",
          "text": [
            "Training: 100%|██████████| 9/9 [00:00<00:00, 25.52it/s]\n",
            "Training: 100%|██████████| 9/9 [00:00<00:00, 24.10it/s]\n",
            "Training: 100%|██████████| 9/9 [00:00<00:00, 24.52it/s]\n",
            "Training: 100%|██████████| 9/9 [00:00<00:00, 24.24it/s]\n",
            "Training: 100%|██████████| 9/9 [00:00<00:00, 24.07it/s]\n",
            "Training: 100%|██████████| 9/9 [00:00<00:00, 24.56it/s]\n",
            "Training: 100%|██████████| 9/9 [00:00<00:00, 24.40it/s]\n",
            "Training: 100%|██████████| 9/9 [00:00<00:00, 24.49it/s]\n",
            "Training: 100%|██████████| 9/9 [00:00<00:00, 24.52it/s]\n",
            "Training: 100%|██████████| 9/9 [00:00<00:00, 23.70it/s]\n"
          ]
        },
        {
          "output_type": "stream",
          "name": "stdout",
          "text": [
            "  Schaefer Epoch: 030, Train Loss: 0.1367\n",
            "Fold 4 Test Accuracy: 0.7931, AUC: 0.8579, Recall (AD): 0.5000\n",
            "\n",
            "=============== FOLD 5/10 ================\n",
            "Initialized dataset with 289 valid subjects.\n",
            "\n",
            "Fold 5: Training Schaefer Model with KNN Graph...\n"
          ]
        },
        {
          "output_type": "stream",
          "name": "stderr",
          "text": [
            "Training: 100%|██████████| 9/9 [00:00<00:00, 24.23it/s]\n",
            "Training: 100%|██████████| 9/9 [00:00<00:00, 24.50it/s]\n",
            "Training: 100%|██████████| 9/9 [00:00<00:00, 24.94it/s]\n",
            "Training: 100%|██████████| 9/9 [00:00<00:00, 25.28it/s]\n",
            "Training: 100%|██████████| 9/9 [00:00<00:00, 24.69it/s]\n",
            "Training: 100%|██████████| 9/9 [00:00<00:00, 25.35it/s]\n",
            "Training: 100%|██████████| 9/9 [00:00<00:00, 25.00it/s]\n",
            "Training: 100%|██████████| 9/9 [00:00<00:00, 24.26it/s]\n",
            "Training: 100%|██████████| 9/9 [00:00<00:00, 24.83it/s]\n",
            "Training: 100%|██████████| 9/9 [00:00<00:00, 24.58it/s]\n"
          ]
        },
        {
          "output_type": "stream",
          "name": "stdout",
          "text": [
            "  Schaefer Epoch: 010, Train Loss: 0.5836\n"
          ]
        },
        {
          "output_type": "stream",
          "name": "stderr",
          "text": [
            "Training: 100%|██████████| 9/9 [00:00<00:00, 23.77it/s]\n",
            "Training: 100%|██████████| 9/9 [00:00<00:00, 24.56it/s]\n",
            "Training: 100%|██████████| 9/9 [00:00<00:00, 22.93it/s]\n",
            "Training: 100%|██████████| 9/9 [00:00<00:00, 24.41it/s]\n",
            "Training: 100%|██████████| 9/9 [00:00<00:00, 21.89it/s]\n",
            "Training: 100%|██████████| 9/9 [00:00<00:00, 18.19it/s]\n",
            "Training: 100%|██████████| 9/9 [00:00<00:00, 20.11it/s]\n",
            "Training: 100%|██████████| 9/9 [00:00<00:00, 19.87it/s]\n",
            "Training: 100%|██████████| 9/9 [00:00<00:00, 20.94it/s]\n",
            "Training: 100%|██████████| 9/9 [00:00<00:00, 21.06it/s]\n"
          ]
        },
        {
          "output_type": "stream",
          "name": "stdout",
          "text": [
            "  Schaefer Epoch: 020, Train Loss: 0.3108\n"
          ]
        },
        {
          "output_type": "stream",
          "name": "stderr",
          "text": [
            "Training: 100%|██████████| 9/9 [00:00<00:00, 17.55it/s]\n",
            "Training: 100%|██████████| 9/9 [00:00<00:00, 21.10it/s]\n",
            "Training: 100%|██████████| 9/9 [00:00<00:00, 24.62it/s]\n",
            "Training: 100%|██████████| 9/9 [00:00<00:00, 24.97it/s]\n",
            "Training: 100%|██████████| 9/9 [00:00<00:00, 25.57it/s]\n",
            "Training: 100%|██████████| 9/9 [00:00<00:00, 25.18it/s]\n",
            "Training: 100%|██████████| 9/9 [00:00<00:00, 25.65it/s]\n",
            "Training: 100%|██████████| 9/9 [00:00<00:00, 25.93it/s]\n",
            "Training: 100%|██████████| 9/9 [00:00<00:00, 24.80it/s]\n",
            "Training: 100%|██████████| 9/9 [00:00<00:00, 26.34it/s]\n"
          ]
        },
        {
          "output_type": "stream",
          "name": "stdout",
          "text": [
            "  Schaefer Epoch: 030, Train Loss: 0.1486\n",
            "Fold 5 Test Accuracy: 0.7931, AUC: 0.8990, Recall (AD): 0.7273\n",
            "\n",
            "=============== FOLD 6/10 ================\n",
            "Initialized dataset with 289 valid subjects.\n",
            "\n",
            "Fold 6: Training Schaefer Model with KNN Graph...\n"
          ]
        },
        {
          "output_type": "stream",
          "name": "stderr",
          "text": [
            "Training: 100%|██████████| 9/9 [00:00<00:00, 24.02it/s]\n",
            "Training: 100%|██████████| 9/9 [00:00<00:00, 25.92it/s]\n",
            "Training: 100%|██████████| 9/9 [00:00<00:00, 25.78it/s]\n",
            "Training: 100%|██████████| 9/9 [00:00<00:00, 25.59it/s]\n",
            "Training: 100%|██████████| 9/9 [00:00<00:00, 25.59it/s]\n",
            "Training: 100%|██████████| 9/9 [00:00<00:00, 24.08it/s]\n",
            "Training: 100%|██████████| 9/9 [00:00<00:00, 24.53it/s]\n",
            "Training: 100%|██████████| 9/9 [00:00<00:00, 25.84it/s]\n",
            "Training: 100%|██████████| 9/9 [00:00<00:00, 25.11it/s]\n",
            "Training: 100%|██████████| 9/9 [00:00<00:00, 25.40it/s]\n"
          ]
        },
        {
          "output_type": "stream",
          "name": "stdout",
          "text": [
            "  Schaefer Epoch: 010, Train Loss: 0.5801\n"
          ]
        },
        {
          "output_type": "stream",
          "name": "stderr",
          "text": [
            "Training: 100%|██████████| 9/9 [00:00<00:00, 25.85it/s]\n",
            "Training: 100%|██████████| 9/9 [00:00<00:00, 24.94it/s]\n",
            "Training: 100%|██████████| 9/9 [00:00<00:00, 25.60it/s]\n",
            "Training: 100%|██████████| 9/9 [00:00<00:00, 25.86it/s]\n",
            "Training: 100%|██████████| 9/9 [00:00<00:00, 24.77it/s]\n",
            "Training: 100%|██████████| 9/9 [00:00<00:00, 24.28it/s]\n",
            "Training: 100%|██████████| 9/9 [00:00<00:00, 25.63it/s]\n",
            "Training: 100%|██████████| 9/9 [00:00<00:00, 24.45it/s]\n",
            "Training: 100%|██████████| 9/9 [00:00<00:00, 21.14it/s]\n",
            "Training: 100%|██████████| 9/9 [00:00<00:00, 20.16it/s]\n"
          ]
        },
        {
          "output_type": "stream",
          "name": "stdout",
          "text": [
            "  Schaefer Epoch: 020, Train Loss: 0.2832\n"
          ]
        },
        {
          "output_type": "stream",
          "name": "stderr",
          "text": [
            "Training: 100%|██████████| 9/9 [00:00<00:00, 19.61it/s]\n",
            "Training: 100%|██████████| 9/9 [00:00<00:00, 20.02it/s]\n",
            "Training: 100%|██████████| 9/9 [00:00<00:00, 19.31it/s]\n",
            "Training: 100%|██████████| 9/9 [00:00<00:00, 19.62it/s]\n",
            "Training: 100%|██████████| 9/9 [00:00<00:00, 18.27it/s]\n",
            "Training: 100%|██████████| 9/9 [00:00<00:00, 23.56it/s]\n",
            "Training: 100%|██████████| 9/9 [00:00<00:00, 24.91it/s]\n",
            "Training: 100%|██████████| 9/9 [00:00<00:00, 24.97it/s]\n",
            "Training: 100%|██████████| 9/9 [00:00<00:00, 25.96it/s]\n",
            "Training: 100%|██████████| 9/9 [00:00<00:00, 25.70it/s]\n"
          ]
        },
        {
          "output_type": "stream",
          "name": "stdout",
          "text": [
            "  Schaefer Epoch: 030, Train Loss: 0.1061\n",
            "Fold 6 Test Accuracy: 0.7931, AUC: 0.8384, Recall (AD): 0.5455\n",
            "\n",
            "=============== FOLD 7/10 ================\n",
            "Initialized dataset with 289 valid subjects.\n",
            "\n",
            "Fold 7: Training Schaefer Model with KNN Graph...\n"
          ]
        },
        {
          "output_type": "stream",
          "name": "stderr",
          "text": [
            "Training: 100%|██████████| 9/9 [00:00<00:00, 24.79it/s]\n",
            "Training: 100%|██████████| 9/9 [00:00<00:00, 24.82it/s]\n",
            "Training: 100%|██████████| 9/9 [00:00<00:00, 25.86it/s]\n",
            "Training: 100%|██████████| 9/9 [00:00<00:00, 25.30it/s]\n",
            "Training: 100%|██████████| 9/9 [00:00<00:00, 24.67it/s]\n",
            "Training: 100%|██████████| 9/9 [00:00<00:00, 25.60it/s]\n",
            "Training: 100%|██████████| 9/9 [00:00<00:00, 25.54it/s]\n",
            "Training: 100%|██████████| 9/9 [00:00<00:00, 24.34it/s]\n",
            "Training: 100%|██████████| 9/9 [00:00<00:00, 25.57it/s]\n",
            "Training: 100%|██████████| 9/9 [00:00<00:00, 25.70it/s]\n"
          ]
        },
        {
          "output_type": "stream",
          "name": "stdout",
          "text": [
            "  Schaefer Epoch: 010, Train Loss: 0.5783\n"
          ]
        },
        {
          "output_type": "stream",
          "name": "stderr",
          "text": [
            "Training: 100%|██████████| 9/9 [00:00<00:00, 24.52it/s]\n",
            "Training: 100%|██████████| 9/9 [00:00<00:00, 25.84it/s]\n",
            "Training: 100%|██████████| 9/9 [00:00<00:00, 24.95it/s]\n",
            "Training: 100%|██████████| 9/9 [00:00<00:00, 25.06it/s]\n",
            "Training: 100%|██████████| 9/9 [00:00<00:00, 25.50it/s]\n",
            "Training: 100%|██████████| 9/9 [00:00<00:00, 25.35it/s]\n",
            "Training: 100%|██████████| 9/9 [00:00<00:00, 25.03it/s]\n",
            "Training: 100%|██████████| 9/9 [00:00<00:00, 25.64it/s]\n",
            "Training: 100%|██████████| 9/9 [00:00<00:00, 26.05it/s]\n",
            "Training: 100%|██████████| 9/9 [00:00<00:00, 24.92it/s]\n"
          ]
        },
        {
          "output_type": "stream",
          "name": "stdout",
          "text": [
            "  Schaefer Epoch: 020, Train Loss: 0.3338\n"
          ]
        },
        {
          "output_type": "stream",
          "name": "stderr",
          "text": [
            "Training: 100%|██████████| 9/9 [00:00<00:00, 25.13it/s]\n",
            "Training: 100%|██████████| 9/9 [00:00<00:00, 24.36it/s]\n",
            "Training: 100%|██████████| 9/9 [00:00<00:00, 19.35it/s]\n",
            "Training: 100%|██████████| 9/9 [00:00<00:00, 21.07it/s]\n",
            "Training: 100%|██████████| 9/9 [00:00<00:00, 18.86it/s]\n",
            "Training: 100%|██████████| 9/9 [00:00<00:00, 20.36it/s]\n",
            "Training: 100%|██████████| 9/9 [00:00<00:00, 19.80it/s]\n",
            "Training: 100%|██████████| 9/9 [00:00<00:00, 18.80it/s]\n",
            "Training: 100%|██████████| 9/9 [00:00<00:00, 18.42it/s]\n",
            "Training: 100%|██████████| 9/9 [00:00<00:00, 25.40it/s]\n"
          ]
        },
        {
          "output_type": "stream",
          "name": "stdout",
          "text": [
            "  Schaefer Epoch: 030, Train Loss: 0.1506\n",
            "Fold 7 Test Accuracy: 0.9310, AUC: 0.9242, Recall (AD): 0.8182\n",
            "\n",
            "=============== FOLD 8/10 ================\n",
            "Initialized dataset with 289 valid subjects.\n",
            "\n",
            "Fold 8: Training Schaefer Model with KNN Graph...\n"
          ]
        },
        {
          "output_type": "stream",
          "name": "stderr",
          "text": [
            "Training: 100%|██████████| 9/9 [00:00<00:00, 24.16it/s]\n",
            "Training: 100%|██████████| 9/9 [00:00<00:00, 25.09it/s]\n",
            "Training: 100%|██████████| 9/9 [00:00<00:00, 25.65it/s]\n",
            "Training: 100%|██████████| 9/9 [00:00<00:00, 24.57it/s]\n",
            "Training: 100%|██████████| 9/9 [00:00<00:00, 25.60it/s]\n",
            "Training: 100%|██████████| 9/9 [00:00<00:00, 25.78it/s]\n",
            "Training: 100%|██████████| 9/9 [00:00<00:00, 24.66it/s]\n",
            "Training: 100%|██████████| 9/9 [00:00<00:00, 25.50it/s]\n",
            "Training: 100%|██████████| 9/9 [00:00<00:00, 25.08it/s]\n",
            "Training: 100%|██████████| 9/9 [00:00<00:00, 24.53it/s]\n"
          ]
        },
        {
          "output_type": "stream",
          "name": "stdout",
          "text": [
            "  Schaefer Epoch: 010, Train Loss: 0.5804\n"
          ]
        },
        {
          "output_type": "stream",
          "name": "stderr",
          "text": [
            "Training: 100%|██████████| 9/9 [00:00<00:00, 25.67it/s]\n",
            "Training: 100%|██████████| 9/9 [00:00<00:00, 25.63it/s]\n",
            "Training: 100%|██████████| 9/9 [00:00<00:00, 24.70it/s]\n",
            "Training: 100%|██████████| 9/9 [00:00<00:00, 25.84it/s]\n",
            "Training: 100%|██████████| 9/9 [00:00<00:00, 25.49it/s]\n",
            "Training: 100%|██████████| 9/9 [00:00<00:00, 23.96it/s]\n",
            "Training: 100%|██████████| 9/9 [00:00<00:00, 25.71it/s]\n",
            "Training: 100%|██████████| 9/9 [00:00<00:00, 24.86it/s]\n",
            "Training: 100%|██████████| 9/9 [00:00<00:00, 25.68it/s]\n",
            "Training: 100%|██████████| 9/9 [00:00<00:00, 25.31it/s]\n"
          ]
        },
        {
          "output_type": "stream",
          "name": "stdout",
          "text": [
            "  Schaefer Epoch: 020, Train Loss: 0.3042\n"
          ]
        },
        {
          "output_type": "stream",
          "name": "stderr",
          "text": [
            "Training: 100%|██████████| 9/9 [00:00<00:00, 24.60it/s]\n",
            "Training: 100%|██████████| 9/9 [00:00<00:00, 25.21it/s]\n",
            "Training: 100%|██████████| 9/9 [00:00<00:00, 25.68it/s]\n",
            "Training: 100%|██████████| 9/9 [00:00<00:00, 24.32it/s]\n",
            "Training: 100%|██████████| 9/9 [00:00<00:00, 24.95it/s]\n",
            "Training: 100%|██████████| 9/9 [00:00<00:00, 21.49it/s]\n",
            "Training: 100%|██████████| 9/9 [00:00<00:00, 19.55it/s]\n",
            "Training: 100%|██████████| 9/9 [00:00<00:00, 20.13it/s]\n",
            "Training: 100%|██████████| 9/9 [00:00<00:00, 19.30it/s]\n",
            "Training: 100%|██████████| 9/9 [00:00<00:00, 20.43it/s]\n"
          ]
        },
        {
          "output_type": "stream",
          "name": "stdout",
          "text": [
            "  Schaefer Epoch: 030, Train Loss: 0.1689\n",
            "Fold 8 Test Accuracy: 0.8276, AUC: 0.8788, Recall (AD): 0.7273\n",
            "\n",
            "=============== FOLD 9/10 ================\n",
            "Initialized dataset with 289 valid subjects.\n",
            "\n",
            "Fold 9: Training Schaefer Model with KNN Graph...\n"
          ]
        },
        {
          "output_type": "stream",
          "name": "stderr",
          "text": [
            "Training: 100%|██████████| 9/9 [00:00<00:00, 17.11it/s]\n",
            "Training: 100%|██████████| 9/9 [00:00<00:00, 21.59it/s]\n",
            "Training: 100%|██████████| 9/9 [00:00<00:00, 24.75it/s]\n",
            "Training: 100%|██████████| 9/9 [00:00<00:00, 24.32it/s]\n",
            "Training: 100%|██████████| 9/9 [00:00<00:00, 24.78it/s]\n",
            "Training: 100%|██████████| 9/9 [00:00<00:00, 24.79it/s]\n",
            "Training: 100%|██████████| 9/9 [00:00<00:00, 24.41it/s]\n",
            "Training: 100%|██████████| 9/9 [00:00<00:00, 23.45it/s]\n",
            "Training: 100%|██████████| 9/9 [00:00<00:00, 25.05it/s]\n",
            "Training: 100%|██████████| 9/9 [00:00<00:00, 24.53it/s]\n"
          ]
        },
        {
          "output_type": "stream",
          "name": "stdout",
          "text": [
            "  Schaefer Epoch: 010, Train Loss: 0.5991\n"
          ]
        },
        {
          "output_type": "stream",
          "name": "stderr",
          "text": [
            "Training: 100%|██████████| 9/9 [00:00<00:00, 23.89it/s]\n",
            "Training: 100%|██████████| 9/9 [00:00<00:00, 24.73it/s]\n",
            "Training: 100%|██████████| 9/9 [00:00<00:00, 24.67it/s]\n",
            "Training: 100%|██████████| 9/9 [00:00<00:00, 24.51it/s]\n",
            "Training: 100%|██████████| 9/9 [00:00<00:00, 24.19it/s]\n",
            "Training: 100%|██████████| 9/9 [00:00<00:00, 24.99it/s]\n",
            "Training: 100%|██████████| 9/9 [00:00<00:00, 23.16it/s]\n",
            "Training: 100%|██████████| 9/9 [00:00<00:00, 24.81it/s]\n",
            "Training: 100%|██████████| 9/9 [00:00<00:00, 24.32it/s]\n",
            "Training: 100%|██████████| 9/9 [00:00<00:00, 25.04it/s]\n"
          ]
        },
        {
          "output_type": "stream",
          "name": "stdout",
          "text": [
            "  Schaefer Epoch: 020, Train Loss: 0.3527\n"
          ]
        },
        {
          "output_type": "stream",
          "name": "stderr",
          "text": [
            "Training: 100%|██████████| 9/9 [00:00<00:00, 24.75it/s]\n",
            "Training: 100%|██████████| 9/9 [00:00<00:00, 24.39it/s]\n",
            "Training: 100%|██████████| 9/9 [00:00<00:00, 24.93it/s]\n",
            "Training: 100%|██████████| 9/9 [00:00<00:00, 23.27it/s]\n",
            "Training: 100%|██████████| 9/9 [00:00<00:00, 24.35it/s]\n",
            "Training: 100%|██████████| 9/9 [00:00<00:00, 24.74it/s]\n",
            "Training: 100%|██████████| 9/9 [00:00<00:00, 24.97it/s]\n",
            "Training: 100%|██████████| 9/9 [00:00<00:00, 24.04it/s]\n",
            "Training: 100%|██████████| 9/9 [00:00<00:00, 19.98it/s]\n",
            "Training: 100%|██████████| 9/9 [00:00<00:00, 19.06it/s]\n"
          ]
        },
        {
          "output_type": "stream",
          "name": "stdout",
          "text": [
            "  Schaefer Epoch: 030, Train Loss: 0.1430\n",
            "Fold 9 Test Accuracy: 0.7586, AUC: 0.8838, Recall (AD): 0.5455\n",
            "\n",
            "=============== FOLD 10/10 ================\n",
            "Initialized dataset with 289 valid subjects.\n",
            "\n",
            "Fold 10: Training Schaefer Model with KNN Graph...\n"
          ]
        },
        {
          "output_type": "stream",
          "name": "stderr",
          "text": [
            "Training: 100%|██████████| 9/9 [00:00<00:00, 19.15it/s]\n",
            "Training: 100%|██████████| 9/9 [00:00<00:00, 20.20it/s]\n",
            "Training: 100%|██████████| 9/9 [00:00<00:00, 18.89it/s]\n",
            "Training: 100%|██████████| 9/9 [00:00<00:00, 17.89it/s]\n",
            "Training: 100%|██████████| 9/9 [00:00<00:00, 24.68it/s]\n",
            "Training: 100%|██████████| 9/9 [00:00<00:00, 24.61it/s]\n",
            "Training: 100%|██████████| 9/9 [00:00<00:00, 25.35it/s]\n",
            "Training: 100%|██████████| 9/9 [00:00<00:00, 25.40it/s]\n",
            "Training: 100%|██████████| 9/9 [00:00<00:00, 24.31it/s]\n",
            "Training: 100%|██████████| 9/9 [00:00<00:00, 25.10it/s]\n"
          ]
        },
        {
          "output_type": "stream",
          "name": "stdout",
          "text": [
            "  Schaefer Epoch: 010, Train Loss: 0.5788\n"
          ]
        },
        {
          "output_type": "stream",
          "name": "stderr",
          "text": [
            "Training: 100%|██████████| 9/9 [00:00<00:00, 24.35it/s]\n",
            "Training: 100%|██████████| 9/9 [00:00<00:00, 24.28it/s]\n",
            "Training: 100%|██████████| 9/9 [00:00<00:00, 25.15it/s]\n",
            "Training: 100%|██████████| 9/9 [00:00<00:00, 24.25it/s]\n",
            "Training: 100%|██████████| 9/9 [00:00<00:00, 24.20it/s]\n",
            "Training: 100%|██████████| 9/9 [00:00<00:00, 25.30it/s]\n",
            "Training: 100%|██████████| 9/9 [00:00<00:00, 24.94it/s]\n",
            "Training: 100%|██████████| 9/9 [00:00<00:00, 24.76it/s]\n",
            "Training: 100%|██████████| 9/9 [00:00<00:00, 25.08it/s]\n",
            "Training: 100%|██████████| 9/9 [00:00<00:00, 23.91it/s]\n"
          ]
        },
        {
          "output_type": "stream",
          "name": "stdout",
          "text": [
            "  Schaefer Epoch: 020, Train Loss: 0.3020\n"
          ]
        },
        {
          "output_type": "stream",
          "name": "stderr",
          "text": [
            "Training: 100%|██████████| 9/9 [00:00<00:00, 25.48it/s]\n",
            "Training: 100%|██████████| 9/9 [00:00<00:00, 25.06it/s]\n",
            "Training: 100%|██████████| 9/9 [00:00<00:00, 23.58it/s]\n",
            "Training: 100%|██████████| 9/9 [00:00<00:00, 24.42it/s]\n",
            "Training: 100%|██████████| 9/9 [00:00<00:00, 24.21it/s]\n",
            "Training: 100%|██████████| 9/9 [00:00<00:00, 23.21it/s]\n",
            "Training: 100%|██████████| 9/9 [00:00<00:00, 24.45it/s]\n",
            "Training: 100%|██████████| 9/9 [00:00<00:00, 24.24it/s]\n",
            "Training: 100%|██████████| 9/9 [00:00<00:00, 24.21it/s]\n",
            "Training: 100%|██████████| 9/9 [00:00<00:00, 24.94it/s]\n"
          ]
        },
        {
          "output_type": "stream",
          "name": "stdout",
          "text": [
            "  Schaefer Epoch: 030, Train Loss: 0.1271\n",
            "Fold 10 Test Accuracy: 0.7857, AUC: 0.8778, Recall (AD): 0.9000\n",
            "\n",
            "=============== Cross-Validation Complete ===============\n",
            "\n",
            "10-Fold Cross-validation Result (Schaefer with KNN Graph):\n",
            "  - Average Test Accuracy: 0.8268\n",
            "  - Average Test AUC: 0.8955\n",
            "  - Average Test Recall (AD): 0.6964\n",
            "  - Average Test F1-Score: 0.8240\n"
          ]
        },
        {
          "output_type": "display_data",
          "data": {
            "text/plain": [
              "<Figure size 800x600 with 2 Axes>"
            ],
            "image/png": "[encoded data removed]"
          },
          "metadata": {}
        },
        {
          "output_type": "stream",
          "name": "stdout",
          "text": [
            "\n",
            "Classification Report:\n",
            "              precision    recall  f1-score   support\n",
            "\n",
            "          CN     0.8384    0.9022    0.8691       184\n",
            "          AD     0.8022    0.6952    0.7449       105\n",
            "\n",
            "    accuracy                         0.8270       289\n",
            "   macro avg     0.8203    0.7987    0.8070       289\n",
            "weighted avg     0.8252    0.8270    0.8240       289\n",
            "\n"
          ]
        },
        {
          "output_type": "display_data",
          "data": {
            "text/plain": [
              "<Figure size 800x800 with 1 Axes>"
            ],
            "image/png": "[encoded data removed]"
          },
          "metadata": {}
        }
      ]
    },
    {
      "cell_type": "code",
      "metadata": {
        "colab": {
          "base_uri": "https://localhost:8080/",
          "height": 1000
        },
        "id": "c953cb7b",
        "outputId": "9b34b6a6-bffe-47b6-a964-f36847279f6d"
      },
      "source": [
        "#@title Hard Voting + Tie Based on Recall Weighted Sum Ensemble\n",
        "# ==============================================================================\n",
        "# Performing Hard Voting Ensemble with Tie Based on Recall Weighted Sum\n",
        "# using AAL and Schaefer model predictions and probabilities.\n",
        "# ==============================================================================\n",
        "\n",
        "# Assuming all_aal_preds, all_aal_labels, all_aal_probs,\n",
        "# all_schaefer_preds, all_schaefer_labels, all_schaefer_probs,\n",
        "# and the fold histories (aal_fold_history, schaefer_fold_history) are available from previous steps.\n",
        "\n",
        "print(\"\\n\" + \"=\"*80)\n",
        "print(\" Starting Hard Voting + Tie Based on Recall Weighted Sum Ensemble\")\n",
        "print(\"=\"*80 + \"\\n\")\n",
        "\n",
        "# --- 1. Load Results and Calculate Recall-based Weights ---\n",
        "\n",
        "try:\n",
        "    # Check if AAL results are available\n",
        "    aal_preds = np.array(all_aal_preds)\n",
        "    true_labels = np.array(all_aal_labels) # Assuming labels are consistent\n",
        "    aal_probs = np.array(all_aal_probs)\n",
        "    print(\"✅ AAL results variables found.\")\n",
        "except NameError:\n",
        "    print(\"--- !!! ERROR !!! ---\")\n",
        "    print(\"AAL results variables (`all_aal_preds`, `all_aal_labels`, `all_aal_probs`) not found.\")\n",
        "    print(\"Please ensure you have run the AAL CV cell (bIbT2iLxdvsy) successfully.\")\n",
        "    raise NameError(\"AAL results not found. Cannot perform ensemble.\")\n",
        "\n",
        "\n",
        "try:\n",
        "    # Check if Schaefer results are available\n",
        "    schaefer_preds = np.array(all_schaefer_preds)\n",
        "    # Assert that labels are the same if needed:\n",
        "    # assert np.array_equal(true_labels, np.array(all_schaefer_labels)), \"AAL and Schaefer labels do not match!\"\n",
        "    schaefer_probs = np.array(all_schaefer_probs)\n",
        "    print(\"✅ Schaefer results variables found.\")\n",
        "except NameError:\n",
        "    print(\"--- !!! ERROR !!! ---\")\n",
        "    print(\"Schaefer results variables (`all_schaefer_preds`, `all_schaefer_labels`, `all_schaefer_probs`) not found.\")\n",
        "    print(\"Please ensure you have run the Schaefer CV cell (X5jV4037Xc4L) successfully.\")\n",
        "    raise NameError(\"Schaefer results not found. Cannot perform ensemble.\")\n",
        "\n",
        "\n",
        "# Determine weights for weighted sum using the formula: w_j = Recall_j / sum(Recall_i)\n",
        "# Retrieve average Recalls from the respective fold_history variables\n",
        "try:\n",
        "    # Ensure fold_history variables are accessible and contain 'recall'\n",
        "    aal_avg_recall = np.mean([f['recall'] for f in aal_fold_history])\n",
        "    schaefer_avg_recall = np.mean([f['recall'] for f in schaefer_fold_history])\n",
        "\n",
        "    # Calculate total Recall sum\n",
        "    total_recall_sum = aal_avg_recall + schaefer_avg_recall\n",
        "\n",
        "    # Calculate weights using the formula w_j = Recall_j / sum(Recall_i)\n",
        "    if total_recall_sum > 0:\n",
        "        aal_weight = aal_avg_recall / total_recall_sum\n",
        "        schaefer_weight = schaefer_avg_recall / total_recall_sum\n",
        "    else:\n",
        "        # Handle case where total Recall sum is zero (shouldn't happen with typical Recalls)\n",
        "        print(\"Warning: Total Recall sum is zero. Using equal weights (0.5) for tie-breaking.\")\n",
        "        aal_weight = 0.5\n",
        "        schaefer_weight = 0.5\n",
        "\n",
        "    print(f\"Using Recall-based weights for tie-breaking: AAL={aal_weight:.4f}, Schaefer={schaefer_weight:.4f}\")\n",
        "\n",
        "except NameError:\n",
        "    print(\"Warning: Could not access fold_history to get average Recalls for weighted sum calculation.\")\n",
        "    print(\"Using equal weights (0.5) for tie-breaking.\")\n",
        "    aal_weight = 0.5\n",
        "    schaefer_weight = 0.5\n",
        "except Exception as e:\n",
        "    print(f\"Warning: Error calculating Recall-based weights: {e}\")\n",
        "    print(\"Using equal weights (0.5) for tie-breaking.\")\n",
        "    aal_weight = 0.5\n",
        "    schaefer_weight = 0.5\n",
        "\n",
        "\n",
        "# --- 3. Perform Ensemble Prediction (Hard Voting with Recall Weighted Sum for Ties) ---\n",
        "\n",
        "def ensemble_predict_hard_weighted_tie(aal_preds, aal_probs, schaefer_preds, schaefer_probs, aal_weight, schaefer_weight):\n",
        "    \"\"\"\n",
        "    Performs Hard Voting ensemble with Recall-based Weighted Sum for ties.\n",
        "\n",
        "    Args:\n",
        "        aal_preds (np.ndarray): Predicted labels from AAL model (shape: num_samples)\n",
        "        aal_probs (np.ndarray): Predicted probabilities from AAL model (shape: num_samples, num_classes)\n",
        "        schaefer_preds (np.ndarray): Predicted labels from Schaefer model (shape: num_samples)\n",
        "        schaefer_probs (np.ndarray): Predicted probabilities from Schaefer model (shape: num_samples, num_classes)\n",
        "        aal_weight (float): Weight for AAL model in case of tie-breaking.\n",
        "        schaefer_weight (float): Weight for Schaefer model in case of tie-breaking.\n",
        "\n",
        "    Returns:\n",
        "        np.ndarray: Final ensemble predictions (shape: num_samples)\n",
        "    \"\"\"\n",
        "    num_samples = len(aal_preds)\n",
        "    ensemble_preds = np.zeros(num_samples, dtype=int)\n",
        "    # num_classes = aal_probs.shape[1] # Assuming num_classes is consistent\n",
        "\n",
        "    for i in range(num_samples):\n",
        "        pred1 = aal_preds[i]\n",
        "        pred2 = schaefer_preds[i]\n",
        "\n",
        "        if pred1 == pred2:\n",
        "            # Hard voting agrees\n",
        "            ensemble_preds[i] = pred1\n",
        "        else:\n",
        "            # Tie in hard voting, use weighted sum of probabilities based on Recall weights\n",
        "            weighted_probs = (aal_probs[i] * aal_weight) + (schaefer_probs[i] * schaefer_weight)\n",
        "\n",
        "            # Predict the class with the highest weighted probability\n",
        "            ensemble_preds[i] = np.argmax(weighted_probs)\n",
        "\n",
        "    return ensemble_preds\n",
        "\n",
        "\n",
        "print(\"\\n--- Performing Ensemble Prediction ---\")\n",
        "# Pass the collected results and the calculated weights\n",
        "ensemble_predictions = ensemble_predict_hard_weighted_tie(aal_preds, aal_probs, schaefer_preds, schaefer_probs, aal_weight, schaefer_weight)\n",
        "\n",
        "\n",
        "# --- 4. Evaluate Ensemble Performance ---\n",
        "print(\"\\n--- Evaluating Ensemble Performance ---\")\n",
        "\n",
        "ensemble_accuracy = accuracy_score(true_labels, ensemble_predictions)\n",
        "ensemble_f1 = f1_score(true_labels, ensemble_predictions, average='weighted')\n",
        "ensemble_cm = confusion_matrix(true_labels, ensemble_predictions)\n",
        "ensemble_classification_report_dict = classification_report(true_labels, ensemble_predictions, target_names=['CN', 'AD'], output_dict=True) # Get report as dictionary\n",
        "\n",
        "# Extract and print individual metrics\n",
        "print(f\"Ensemble Accuracy: {ensemble_accuracy:.4f}\")\n",
        "print(f\"Ensemble F1-Score (weighted): {ensemble_f1:.4f}\")\n",
        "print(f\"Ensemble Precision (CN): {ensemble_classification_report_dict['CN']['precision']:.4f}\")\n",
        "print(f\"Ensemble Recall (CN): {ensemble_classification_report_dict['CN']['recall']:.4f}\")\n",
        "print(f\"Ensemble Precision (AD): {ensemble_classification_report_dict['AD']['precision']:.4f}\")\n",
        "print(f\"Ensemble Recall (AD): {ensemble_classification_report_dict['AD']['recall']:.4f}\")\n",
        "\n",
        "\n",
        "print(\"\\nEnsemble Classification Report:\")\n",
        "print(classification_report(true_labels, ensemble_predictions, target_names=['CN', 'AD'], digits=4))\n",
        "\n",
        "# --- 5. Visualize Ensemble Results ---\n",
        "\n",
        "# Confusion Matrix\n",
        "plt.figure(figsize=(8, 6))\n",
        "sns.heatmap(ensemble_cm, annot=True, fmt='d', cmap='Blues', xticklabels=['CN', 'AD'], yticklabels=['CN', 'AD'])\n",
        "plt.title('Hard Voting + Tie Based on Recall Weighted Sum Confusion Matrix (AAL + Schaefer KNN Graphs)') # Updated Title\n",
        "plt.xlabel('Predicted Label')\n",
        "plt.ylabel('True Label')\n",
        "plt.show()\n",
        "\n",
        "# ROC Curve\n",
        "# For ROC curve, we need the probability of the positive class (AD, label 1) for the ensemble.\n",
        "# In this Hard Voting + Tie strategy, the ensemble probability isn't a simple overall weighted sum\n",
        "# of the initial probabilities for *all* samples. For non-tie cases, the ensemble prediction\n",
        "# is just the agreed-upon label, without a probability derived from probability combination.\n",
        "# For tie cases, the probability comes from the weighted sum.\n",
        "# To plot an overall ROC curve, we technically need a probability score for every sample.\n",
        "# A common approximation is to use the weighted sum of probabilities for *all* samples,\n",
        "# even though the hard voting logic was applied first. This provides a smooth ROC curve\n",
        "# based on the probability scores that *would have been used* if it was pure Soft Voting\n",
        "# with these weights.\n",
        "\n",
        "# Let's use the weighted sum of probabilities for all samples to plot the ROC curve,\n",
        "# acknowledging that the hard voting logic introduces a step based on discrete labels first.\n",
        "# This is a standard approach for plotting ROC of such hybrid methods based on underlying probabilities.\n",
        "\n",
        "weighted_ensemble_probs_for_roc = (aal_probs * aal_weight) + (schaefer_probs * schaefer_weight)\n",
        "probs_positive_class_ensemble_for_roc = weighted_ensemble_probs_for_roc[:, 1]\n",
        "\n",
        "\n",
        "# Ensure true_labels and probs_positive_class_ensemble_for_roc have the same length\n",
        "if len(true_labels) == len(probs_positive_class_ensemble_for_roc):\n",
        "    fpr, tpr, thresholds = roc_curve(true_labels, probs_positive_class_ensemble_for_roc)\n",
        "    roc_auc_ensemble = auc(fpr, tpr)\n",
        "\n",
        "    plt.figure(figsize=(8, 8))\n",
        "    plt.plot(fpr, tpr, color='darkorange', lw=2, label=f'ROC curve (area = {roc_auc_ensemble:.4f})')\n",
        "    plt.plot([0, 1], [0, 1], color='navy', lw=2, linestyle='--')\n",
        "    plt.xlim([0.0, 1.0])\n",
        "    plt.ylim([0.0, 1.05])\n",
        "    plt.xlabel('False Positive Rate')\n",
        "    plt.ylabel('True Positive Rate')\n",
        "    plt.title('Hard Voting + Tie Based on Recall Weighted Sum Receiver Operating Characteristic (ROC) Curve') # Updated Title\n",
        "    plt.legend(loc=\"lower right\")\n",
        "    plt.show()\n",
        "else:\n",
        "     print(f\"Error: Length of true labels ({len(true_labels)}) does not match length of ensemble probabilities ({len(probs_positive_class_ensemble_for_roc)}). Cannot plot ROC curve.\")\n",
        "\n",
        "print(f\"Ensemble AUC: {roc_auc_ensemble:.4f}\") # Explicitly print AUC\n",
        "\n",
        "print(\"\\n--- Ensemble Analysis Complete ---\")"
      ],
      "execution_count": null,
      "outputs": [
        {
          "output_type": "stream",
          "name": "stdout",
          "text": [
            "\n",
            "================================================================================\n",
            " Starting Hard Voting + Tie Based on Recall Weighted Sum Ensemble\n",
            "================================================================================\n",
            "\n",
            "✅ AAL results variables found.\n",
            "✅ Schaefer results variables found.\n",
            "Using Recall-based weights for tie-breaking: AAL=0.3356, Schaefer=0.6644\n",
            "\n",
            "--- Performing Ensemble Prediction ---\n",
            "\n",
            "--- Evaluating Ensemble Performance ---\n",
            "Ensemble Accuracy: 0.8478\n",
            "Ensemble F1-Score (weighted): 0.8442\n",
            "Ensemble Precision (CN): 0.8465\n",
            "Ensemble Recall (CN): 0.9293\n",
            "Ensemble Precision (AD): 0.8506\n",
            "Ensemble Recall (AD): 0.7048\n",
            "\n",
            "Ensemble Classification Report:\n",
            "              precision    recall  f1-score   support\n",
            "\n",
            "          CN     0.8465    0.9293    0.8860       184\n",
            "          AD     0.8506    0.7048    0.7708       105\n",
            "\n",
            "    accuracy                         0.8478       289\n",
            "   macro avg     0.8486    0.8171    0.8284       289\n",
            "weighted avg     0.8480    0.8478    0.8442       289\n",
            "\n"
          ]
        },
        {
          "output_type": "display_data",
          "data": {
            "text/plain": [
              "<Figure size 800x600 with 2 Axes>"
            ],
            "image/png": "[encoded data removed]"
          },
          "metadata": {}
        },
        {
          "output_type": "display_data",
          "data": {
            "text/plain": [
              "<Figure size 800x800 with 1 Axes>"
            ],
            "image/png": "[encoded data removed]"
          },
          "metadata": {}
        },
        {
          "output_type": "stream",
          "name": "stdout",
          "text": [
            "Ensemble AUC: 0.8855\n",
            "\n",
            "--- Ensemble Analysis Complete ---\n"
          ]
        }
      ]
    }
  ],
  "metadata": {
    "accelerator": "GPU",
    "colab": {
      "gpuType": "T4",
      "provenance": []
    },
    "kernelspec": {
      "display_name": "Python 3",
      "name": "python3"
    },
    "language_info": {
      "name": "python"
    }
  },
  "nbformat": 4,
  "nbformat_minor": 0
}